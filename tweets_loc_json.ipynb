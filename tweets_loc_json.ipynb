{
 "cells": [
  {
   "cell_type": "code",
   "execution_count": 1,
   "metadata": {},
   "outputs": [],
   "source": [
    "import tweets_formatter_V2 as tf2\n",
    "import ijson"
   ]
  },
  {
   "attachments": {},
   "cell_type": "markdown",
   "metadata": {},
   "source": [
    "For Sample_tweets.json"
   ]
  },
  {
   "cell_type": "code",
   "execution_count": 2,
   "metadata": {},
   "outputs": [
    {
     "ename": "KeyError",
     "evalue": "'id'",
     "output_type": "error",
     "traceback": [
      "\u001b[0;31m---------------------------------------------------------------------------\u001b[0m",
      "\u001b[0;31mKeyError\u001b[0m                                  Traceback (most recent call last)",
      "Cell \u001b[0;32mIn[2], line 4\u001b[0m\n\u001b[1;32m      2\u001b[0m tweet_path \u001b[39m=\u001b[39m \u001b[39m\"\u001b[39m\u001b[39m./data/raw/tinyTwitter.json\u001b[39m\u001b[39m\"\u001b[39m\n\u001b[1;32m      3\u001b[0m out_path \u001b[39m=\u001b[39m \u001b[39m\"\u001b[39m\u001b[39m./data/curated/tweets_location.json\u001b[39m\u001b[39m\"\u001b[39m\n\u001b[0;32m----> 4\u001b[0m tf2\u001b[39m.\u001b[39;49mextract(out_path, tweet_path)\n",
      "File \u001b[0;32m~/Documents/GitHub/social-media-analytics-on-cloud/tweets_formatter_V2.py:31\u001b[0m, in \u001b[0;36mextract\u001b[0;34m(out_path, input_path)\u001b[0m\n\u001b[1;32m     29\u001b[0m o\u001b[39m.\u001b[39mwrite(\u001b[39m\"\u001b[39m\u001b[39m[\u001b[39m\u001b[39m\\n\u001b[39;00m\u001b[39m\"\u001b[39m)\n\u001b[1;32m     30\u001b[0m \u001b[39mfor\u001b[39;00m tweet \u001b[39min\u001b[39;00m ijson\u001b[39m.\u001b[39mitems(f, \u001b[39m\"\u001b[39m\u001b[39mitem\u001b[39m\u001b[39m\"\u001b[39m, multiple_values\u001b[39m=\u001b[39m\u001b[39mTrue\u001b[39;00m):\n\u001b[0;32m---> 31\u001b[0m     item \u001b[39m=\u001b[39m formatted(tweet)\n\u001b[1;32m     32\u001b[0m     \u001b[39mif\u001b[39;00m item[\u001b[39m\"\u001b[39m\u001b[39mlocation\u001b[39m\u001b[39m\"\u001b[39m][\u001b[39m\"\u001b[39m\u001b[39mfull_name\u001b[39m\u001b[39m\"\u001b[39m] \u001b[39mis\u001b[39;00m \u001b[39mnot\u001b[39;00m \u001b[39mNone\u001b[39;00m:\n\u001b[1;32m     33\u001b[0m         \u001b[39mif\u001b[39;00m \u001b[39mnot\u001b[39;00m start:\n",
      "File \u001b[0;32m~/Documents/GitHub/social-media-analytics-on-cloud/tweets_formatter_V2.py:42\u001b[0m, in \u001b[0;36mformatted\u001b[0;34m(tweet)\u001b[0m\n\u001b[1;32m     40\u001b[0m \u001b[39mdef\u001b[39;00m \u001b[39mformatted\u001b[39m(tweet):\n\u001b[1;32m     41\u001b[0m     temp \u001b[39m=\u001b[39m {}\n\u001b[0;32m---> 42\u001b[0m     temp[\u001b[39m\"\u001b[39m\u001b[39mpost_id\u001b[39m\u001b[39m\"\u001b[39m] \u001b[39m=\u001b[39m tweet[\u001b[39m\"\u001b[39;49m\u001b[39mid\u001b[39;49m\u001b[39m\"\u001b[39;49m]\n\u001b[1;32m     43\u001b[0m     temp[\u001b[39m\"\u001b[39m\u001b[39mauthor_id\u001b[39m\u001b[39m\"\u001b[39m] \u001b[39m=\u001b[39m tweet[\u001b[39m\"\u001b[39m\u001b[39mdoc\u001b[39m\u001b[39m\"\u001b[39m][\u001b[39m\"\u001b[39m\u001b[39mdata\u001b[39m\u001b[39m\"\u001b[39m][\u001b[39m\"\u001b[39m\u001b[39mauthor_id\u001b[39m\u001b[39m\"\u001b[39m]\n\u001b[1;32m     44\u001b[0m     temp[\u001b[39m\"\u001b[39m\u001b[39mcreated_at\u001b[39m\u001b[39m\"\u001b[39m] \u001b[39m=\u001b[39m tweet[\u001b[39m\"\u001b[39m\u001b[39mdoc\u001b[39m\u001b[39m\"\u001b[39m][\u001b[39m\"\u001b[39m\u001b[39mdata\u001b[39m\u001b[39m\"\u001b[39m][\u001b[39m\"\u001b[39m\u001b[39mcreated_at\u001b[39m\u001b[39m\"\u001b[39m]\n",
      "\u001b[0;31mKeyError\u001b[0m: 'id'"
     ]
    }
   ],
   "source": [
    "tweet_sample_path = \"./data/raw/sample_tweets.json\"\n",
    "tweet_path = \"./data/raw/tinyTwitter.json\"\n",
    "out_path = \"./data/curated/tweets_location.json\"\n",
    "tf2.extract(out_path, tweet_path)"
   ]
  },
  {
   "cell_type": "code",
   "execution_count": 3,
   "metadata": {},
   "outputs": [],
   "source": [
    "def see(tweet_path):\n",
    "    with open(tweet_path, \"rb\") as f:\n",
    "        for tweet in ijson.items(f, \"item\", multiple_values=True):\n",
    "            print(tweet)"
   ]
  },
  {
   "cell_type": "code",
   "execution_count": 4,
   "metadata": {},
   "outputs": [
    {
     "ename": "IncompleteJSONError",
     "evalue": "parse error: premature EOF\n                                       \n                     (right here) ------^\n",
     "output_type": "error",
     "traceback": [
      "\u001b[0;31m---------------------------------------------------------------------------\u001b[0m",
      "\u001b[0;31mIncompleteJSONError\u001b[0m                       Traceback (most recent call last)",
      "Cell \u001b[0;32mIn[4], line 1\u001b[0m\n\u001b[0;32m----> 1\u001b[0m see(out_path)\n",
      "Cell \u001b[0;32mIn[3], line 3\u001b[0m, in \u001b[0;36msee\u001b[0;34m(tweet_path)\u001b[0m\n\u001b[1;32m      1\u001b[0m \u001b[39mdef\u001b[39;00m \u001b[39msee\u001b[39m(tweet_path):\n\u001b[1;32m      2\u001b[0m     \u001b[39mwith\u001b[39;00m \u001b[39mopen\u001b[39m(tweet_path, \u001b[39m\"\u001b[39m\u001b[39mrb\u001b[39m\u001b[39m\"\u001b[39m) \u001b[39mas\u001b[39;00m f:\n\u001b[0;32m----> 3\u001b[0m         \u001b[39mfor\u001b[39;00m tweet \u001b[39min\u001b[39;00m ijson\u001b[39m.\u001b[39mitems(f, \u001b[39m\"\u001b[39m\u001b[39mitem\u001b[39m\u001b[39m\"\u001b[39m, multiple_values\u001b[39m=\u001b[39m\u001b[39mTrue\u001b[39;00m):\n\u001b[1;32m      4\u001b[0m             \u001b[39mprint\u001b[39m(tweet)\n",
      "\u001b[0;31mIncompleteJSONError\u001b[0m: parse error: premature EOF\n                                       \n                     (right here) ------^\n"
     ]
    }
   ],
   "source": [
    "see(out_path)"
   ]
  }
 ],
 "metadata": {
  "kernelspec": {
   "display_name": "base",
   "language": "python",
   "name": "python3"
  },
  "language_info": {
   "codemirror_mode": {
    "name": "ipython",
    "version": 3
   },
   "file_extension": ".py",
   "mimetype": "text/x-python",
   "name": "python",
   "nbconvert_exporter": "python",
   "pygments_lexer": "ipython3",
   "version": "3.11.0"
  },
  "orig_nbformat": 4
 },
 "nbformat": 4,
 "nbformat_minor": 2
}
