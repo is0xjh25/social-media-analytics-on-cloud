{
 "cells": [
  {
   "attachments": {},
   "cell_type": "markdown",
   "metadata": {},
   "source": [
    "# Request place information using twitter API\n",
    "### Twitter API key list\n",
    "#### - Consumer Keys\n",
    "- API Key & API Secret\n",
    "#### - Authentication Tokens\n",
    "- Bearer Token\n",
    "- Access Token & Access Secret"
   ]
  },
  {
   "attachments": {},
   "cell_type": "markdown",
   "metadata": {},
   "source": [
    "Read .env file to read API key (Create your own .env file and write down the API keys)"
   ]
  },
  {
   "cell_type": "code",
   "execution_count": 11,
   "metadata": {},
   "outputs": [],
   "source": [
    "from dotenv import load_dotenv\n",
    "import os\n",
    "load_dotenv()\n",
    "BEARER_TOKEN = os.environ.get(\"BEARER_TOKEN\")\n",
    "API_KEY = os.environ.get(\"API_KEY\")\n",
    "API_SECRET = os.environ.get(\"API_SECRET\")\n",
    "ACCESS_TOKEN = os.environ.get(\"ACCESS_TOKEN\")\n",
    "ACCESS_TOKEN_SECRET = os.environ.get(\"ACCESS_TOKEN_SECRET\")"
   ]
  },
  {
   "attachments": {},
   "cell_type": "markdown",
   "metadata": {},
   "source": [
    "Request location information regarding place_id"
   ]
  },
  {
   "cell_type": "code",
   "execution_count": 12,
   "metadata": {},
   "outputs": [],
   "source": [
    "import requests\n",
    "\n",
    "def get_data(BEARER_TOKEN, url):\n",
    "    headers = {'Authorization': \"Bearer \" + str(BEARER_TOKEN) }\n",
    "    response = requests.get(url, headers=headers)\n",
    "    response_data = response.json()\n",
    "    return response_data"
   ]
  },
  {
   "attachments": {},
   "cell_type": "markdown",
   "metadata": {},
   "source": [
    "Example of requesting information"
   ]
  },
  {
   "cell_type": "code",
   "execution_count": 14,
   "metadata": {},
   "outputs": [
    {
     "data": {
      "text/plain": [
       "{'id': '0073b76548e5984f',\n",
       " 'name': 'Sydney',\n",
       " 'full_name': 'Sydney, New South Wales',\n",
       " 'country': 'Australia',\n",
       " 'country_code': 'AU',\n",
       " 'url': 'https://api.twitter.com/1.1/geo/id/0073b76548e5984f.json',\n",
       " 'place_type': 'city',\n",
       " 'attributes': {'geotagCount': '2637'},\n",
       " 'bounding_box': {'type': 'Polygon',\n",
       "  'coordinates': [[[150.520928608, -34.1183470085],\n",
       "    [150.520928608, -33.578140996],\n",
       "    [151.343020992, -33.578140996],\n",
       "    [151.343020992, -34.1183470085],\n",
       "    [150.520928608, -34.1183470085]]]},\n",
       " 'centroid': [150.96870742118324, -33.8482430125],\n",
       " 'contained_within': [{'id': '265b933184e2b88a',\n",
       "   'name': 'New South Wales',\n",
       "   'full_name': 'New South Wales, Australia',\n",
       "   'country': 'Australia',\n",
       "   'country_code': 'AU',\n",
       "   'url': 'https://api.twitter.com/1.1/geo/id/265b933184e2b88a.json',\n",
       "   'place_type': 'admin',\n",
       "   'attributes': {},\n",
       "   'bounding_box': {'type': 'Polygon',\n",
       "    'coordinates': [[[140.999474522999, -37.5050599967256],\n",
       "      [140.999474522999, -28.1570199141289],\n",
       "      [159.109219005872, -28.1570199141289],\n",
       "      [159.109219005872, -37.5050599967256],\n",
       "      [140.999474522999, -37.5050599967256]]]},\n",
       "   'centroid': [146.3463422232526, -32.831042971537]}],\n",
       " 'polylines': [],\n",
       " 'geometry': None}"
      ]
     },
     "execution_count": 14,
     "metadata": {},
     "output_type": "execute_result"
    }
   ],
   "source": [
    "place_id = \"0073b76548e5984f\"\n",
    "get_data(BEARER_TOKEN, f\"https://api.twitter.com/1.1/geo/id/{place_id_list[0]}.json\")"
   ]
  }
 ],
 "metadata": {
  "kernelspec": {
   "display_name": "base",
   "language": "python",
   "name": "python3"
  },
  "language_info": {
   "codemirror_mode": {
    "name": "ipython",
    "version": 3
   },
   "file_extension": ".py",
   "mimetype": "text/x-python",
   "name": "python",
   "nbconvert_exporter": "python",
   "pygments_lexer": "ipython3",
   "version": "3.9.12"
  },
  "orig_nbformat": 4
 },
 "nbformat": 4,
 "nbformat_minor": 2
}
