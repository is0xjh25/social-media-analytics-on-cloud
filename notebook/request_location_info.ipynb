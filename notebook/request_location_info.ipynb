{
 "cells": [
  {
   "attachments": {},
   "cell_type": "markdown",
   "metadata": {},
   "source": [
    "# Request place information using twitter API\n",
    "### Twitter API key list\n",
    "#### - Consumer Keys\n",
    "- API Key & API Secret\n",
    "#### - Authentication Tokens\n",
    "- Bearer Token\n",
    "- Access Token & Access Secret"
   ]
  },
  {
   "attachments": {},
   "cell_type": "markdown",
   "metadata": {},
   "source": [
    "Read .env file to read API key (Create your own .env file and write down the API keys)"
   ]
  },
  {
   "cell_type": "code",
   "execution_count": 62,
   "metadata": {},
   "outputs": [],
   "source": [
    "from dotenv import load_dotenv\n",
    "import os\n",
    "load_dotenv()\n",
    "BEARER_TOKEN = os.environ.get(\"BEARER_TOKEN\")\n",
    "API_KEY = os.environ.get(\"API_KEY\")\n",
    "API_SECRET = os.environ.get(\"API_SECRET\")\n",
    "ACCESS_TOKEN = os.environ.get(\"ACCESS_TOKEN\")\n",
    "ACCESS_TOKEN_SECRET = os.environ.get(\"ACCESS_TOKEN_SECRET\")"
   ]
  },
  {
   "attachments": {},
   "cell_type": "markdown",
   "metadata": {},
   "source": [
    "Request location information regarding place_id"
   ]
  },
  {
   "cell_type": "code",
   "execution_count": 63,
   "metadata": {},
   "outputs": [],
   "source": [
    "def get_data(BEARER_TOKEN, url):\n",
    "    headers = {'Authorization': \"Bearer \" + str(BEARER_TOKEN) }\n",
    "    response = requests.get(url, headers=headers)\n",
    "    response_data = response.json()\n",
    "    return response_data"
   ]
  },
  {
   "attachments": {},
   "cell_type": "markdown",
   "metadata": {},
   "source": [
    "Example of requesting information"
   ]
  },
  {
   "cell_type": "code",
   "execution_count": 64,
   "metadata": {},
   "outputs": [
    {
     "data": {
      "text/plain": [
       "{'id': '5a110d312052166f',\n",
       " 'name': 'San Francisco',\n",
       " 'full_name': 'San Francisco, CA',\n",
       " 'country': 'United States',\n",
       " 'country_code': 'US',\n",
       " 'url': 'https://api.twitter.com/1.1/geo/id/5a110d312052166f.json',\n",
       " 'place_type': 'city',\n",
       " 'attributes': {'162772:place_id': '0667000',\n",
       "  'geotagCount': '4731',\n",
       "  '189390:id': 'san-francisco-ca',\n",
       "  '162772:pop100': '776733'},\n",
       " 'bounding_box': {'type': 'Polygon',\n",
       "  'coordinates': [[[-122.514926, 37.708075],\n",
       "    [-122.514926, 37.833238],\n",
       "    [-122.357031, 37.833238],\n",
       "    [-122.357031, 37.708075],\n",
       "    [-122.514926, 37.708075]]]},\n",
       " 'centroid': [-122.44614011854333, 37.7598095],\n",
       " 'contained_within': [{'id': '5122804691e5fecc',\n",
       "   'name': 'SAN FRANCISCO-OAK-SAN JOSE',\n",
       "   'full_name': 'SAN FRANCISCO-OAK-SAN JOSE',\n",
       "   'country': 'United States',\n",
       "   'country_code': 'US',\n",
       "   'url': 'https://api.twitter.com/1.1/geo/id/5122804691e5fecc.json',\n",
       "   'place_type': 'admin',\n",
       "   'attributes': {},\n",
       "   'bounding_box': {'type': 'Polygon',\n",
       "    'coordinates': [[[-124.022819, 36.893329],\n",
       "      [-124.022819, 40.002141],\n",
       "      [-121.208156, 40.002141],\n",
       "      [-121.208156, 36.893329],\n",
       "      [-124.022819, 36.893329]]]},\n",
       "   'centroid': [-122.62595255169629, 38.4477875]}],\n",
       " 'polylines': [],\n",
       " 'geometry': None}"
      ]
     },
     "execution_count": 64,
     "metadata": {},
     "output_type": "execute_result"
    }
   ],
   "source": [
    "place_id = \"5a110d312052166f\"\n",
    "get_data(BEARER_TOKEN, f\"https://api.twitter.com/1.1/geo/id/{place_id}.json\")"
   ]
  }
 ],
 "metadata": {
  "kernelspec": {
   "display_name": "base",
   "language": "python",
   "name": "python3"
  },
  "language_info": {
   "codemirror_mode": {
    "name": "ipython",
    "version": 3
   },
   "file_extension": ".py",
   "mimetype": "text/x-python",
   "name": "python",
   "nbconvert_exporter": "python",
   "pygments_lexer": "ipython3",
   "version": "3.9.12"
  },
  "orig_nbformat": 4
 },
 "nbformat": 4,
 "nbformat_minor": 2
}
