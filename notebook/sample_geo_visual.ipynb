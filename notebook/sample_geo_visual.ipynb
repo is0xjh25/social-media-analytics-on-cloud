{
 "cells": [
  {
   "attachments": {},
   "cell_type": "markdown",
   "metadata": {},
   "source": [
    "### Geo Analysis Demo\n",
    "This is a demo of geo analysis using geopandas. We visualise the number of tweets each gcc or rural made on a map using shape files downloaded from: https://www.abs.gov.au/statistics/standards/australian-statistical-geography-standard-asgs-edition-3/jul2021-jun2026/access-and-downloads/digital-boundary-files\n",
    "\n",
    "We visualised:\n",
    "* Number of tweets each gcc and rural made using analysis results from A1Q1\n",
    "* Happy socre of each place (this demo is in '/notebook/sample_sentiment_analysis.ipynb')\n",
    "\n",
    "What can we do further: <br>\n",
    "As we can see from the map, the granularity of GCC Statistic Area(GCCSA) is very large (Each area is either too large (rural places) or too small (gcc places)), so not much information can be discovered. Hence, we might need to consider using Suburbs and Localities shape file(SAL) for further analysis. "
   ]
  },
  {
   "cell_type": "code",
   "execution_count": 1,
   "metadata": {},
   "outputs": [],
   "source": [
    "import geopandas as gpd\n",
    "import folium\n",
    "import pandas as pd"
   ]
  },
  {
   "cell_type": "code",
   "execution_count": 2,
   "metadata": {},
   "outputs": [
    {
     "data": {
      "text/plain": [
       "'\\nboundary = gpd.read_file(\"../../data/raw/Geo/SA2_2021_AUST_SHP_GDA2020/SA2_2021_AUST_GDA2020.shp\")\\nboundary = boundary[boundary.STE_NAME21 == \\'Victoria\\']\\ngeo = boundary[[\\'SA2_CODE21\\',\\'SA2_NAME21\\', \\'geometry\\']]\\ngeo.SA2_CODE21 = geo.SA2_CODE21.astype(int)\\ngeoboundary = boundary[[\\'SA2_NAME21\\', \\'geometry\\']].dropna()'"
      ]
     },
     "execution_count": 2,
     "metadata": {},
     "output_type": "execute_result"
    }
   ],
   "source": [
    "# Sample geo analysis code\n",
    "'''\n",
    "boundary = gpd.read_file(\"../../data/raw/Geo/SA2_2021_AUST_SHP_GDA2020/SA2_2021_AUST_GDA2020.shp\")\n",
    "boundary = boundary[boundary.STE_NAME21 == 'Victoria']\n",
    "geo = boundary[['SA2_CODE21','SA2_NAME21', 'geometry']]\n",
    "geo.SA2_CODE21 = geo.SA2_CODE21.astype(int)\n",
    "geoboundary = boundary[['SA2_NAME21', 'geometry']].dropna()'''"
   ]
  },
  {
   "cell_type": "code",
   "execution_count": 5,
   "metadata": {},
   "outputs": [
    {
     "data": {
      "text/html": [
       "<div>\n",
       "<style scoped>\n",
       "    .dataframe tbody tr th:only-of-type {\n",
       "        vertical-align: middle;\n",
       "    }\n",
       "\n",
       "    .dataframe tbody tr th {\n",
       "        vertical-align: top;\n",
       "    }\n",
       "\n",
       "    .dataframe thead th {\n",
       "        text-align: right;\n",
       "    }\n",
       "</style>\n",
       "<table border=\"1\" class=\"dataframe\">\n",
       "  <thead>\n",
       "    <tr style=\"text-align: right;\">\n",
       "      <th></th>\n",
       "      <th>gcc</th>\n",
       "      <th>count</th>\n",
       "    </tr>\n",
       "  </thead>\n",
       "  <tbody>\n",
       "    <tr>\n",
       "      <th>0</th>\n",
       "      <td>2GMEL</td>\n",
       "      <td>2286891</td>\n",
       "    </tr>\n",
       "    <tr>\n",
       "      <th>1</th>\n",
       "      <td>1GSYD</td>\n",
       "      <td>2218396</td>\n",
       "    </tr>\n",
       "    <tr>\n",
       "      <th>2</th>\n",
       "      <td>3GBRI</td>\n",
       "      <td>859994</td>\n",
       "    </tr>\n",
       "    <tr>\n",
       "      <th>3</th>\n",
       "      <td>3RQLD</td>\n",
       "      <td>606938</td>\n",
       "    </tr>\n",
       "    <tr>\n",
       "      <th>4</th>\n",
       "      <td>5GPER</td>\n",
       "      <td>589322</td>\n",
       "    </tr>\n",
       "    <tr>\n",
       "      <th>5</th>\n",
       "      <td>1RNSW</td>\n",
       "      <td>519371</td>\n",
       "    </tr>\n",
       "    <tr>\n",
       "      <th>6</th>\n",
       "      <td>4GADE</td>\n",
       "      <td>465908</td>\n",
       "    </tr>\n",
       "    <tr>\n",
       "      <th>7</th>\n",
       "      <td>2RVIC</td>\n",
       "      <td>412393</td>\n",
       "    </tr>\n",
       "    <tr>\n",
       "      <th>8</th>\n",
       "      <td>8ACTE</td>\n",
       "      <td>202646</td>\n",
       "    </tr>\n",
       "    <tr>\n",
       "      <th>9</th>\n",
       "      <td>6GHOB</td>\n",
       "      <td>90816</td>\n",
       "    </tr>\n",
       "    <tr>\n",
       "      <th>10</th>\n",
       "      <td>5RWAU</td>\n",
       "      <td>79657</td>\n",
       "    </tr>\n",
       "    <tr>\n",
       "      <th>11</th>\n",
       "      <td>4RSAU</td>\n",
       "      <td>61618</td>\n",
       "    </tr>\n",
       "    <tr>\n",
       "      <th>12</th>\n",
       "      <td>6RTAS</td>\n",
       "      <td>47935</td>\n",
       "    </tr>\n",
       "    <tr>\n",
       "      <th>13</th>\n",
       "      <td>7GDAR</td>\n",
       "      <td>46357</td>\n",
       "    </tr>\n",
       "    <tr>\n",
       "      <th>14</th>\n",
       "      <td>7RNTE</td>\n",
       "      <td>26820</td>\n",
       "    </tr>\n",
       "    <tr>\n",
       "      <th>15</th>\n",
       "      <td>9OTER</td>\n",
       "      <td>182</td>\n",
       "    </tr>\n",
       "  </tbody>\n",
       "</table>\n",
       "</div>"
      ],
      "text/plain": [
       "      gcc    count\n",
       "0   2GMEL  2286891\n",
       "1   1GSYD  2218396\n",
       "2   3GBRI   859994\n",
       "3   3RQLD   606938\n",
       "4   5GPER   589322\n",
       "5   1RNSW   519371\n",
       "6   4GADE   465908\n",
       "7   2RVIC   412393\n",
       "8   8ACTE   202646\n",
       "9   6GHOB    90816\n",
       "10  5RWAU    79657\n",
       "11  4RSAU    61618\n",
       "12  6RTAS    47935\n",
       "13  7GDAR    46357\n",
       "14  7RNTE    26820\n",
       "15  9OTER      182"
      ]
     },
     "execution_count": 5,
     "metadata": {},
     "output_type": "execute_result"
    }
   ],
   "source": [
    "gdf = gpd.read_file(\"../data/raw/GCCSA_2021_AUST_SHP_GDA2020/GCCSA_2021_AUST_GDA2020.shp\")\n",
    "geoboundary = gdf[['STE_CODE21','GCC_CODE21', 'geometry']].dropna()\n",
    "geoJSON = geoboundary.to_json()\n",
    "result = pd.read_csv('../data/curated/q1.csv') # a demo using Assginemnt1 q1\n",
    "result"
   ]
  },
  {
   "cell_type": "code",
   "execution_count": 6,
   "metadata": {},
   "outputs": [],
   "source": [
    "gdf2 = pd.merge(gdf, result, how='left', left_on='GCC_CODE21', right_on = 'gcc')"
   ]
  },
  {
   "cell_type": "code",
   "execution_count": null,
   "metadata": {},
   "outputs": [],
   "source": [
    "m = folium.Map(location=[-37.81, 144.96], tiles=\"Stamen Terrain\", zoom_start=10, color='white')\n",
    "svg_style = '<style>svg {background-color: rgb(255, 255, 255,0.5);}</style>'\n",
    "m.get_root().header.add_child(folium.Element(svg_style))\n",
    "\n",
    "c = folium.Choropleth(\n",
    "    geo_data=geoJSON,\n",
    "    name='choropleth',\n",
    "    data=gdf2, \n",
    "    columns=['gcc','count'],\n",
    "    key_on='properties.GCC_CODE21', \n",
    "    fill_color='Paired', \n",
    "    nan_fill_color='black',\n",
    "    legend_name='tweets made per gcc area',\n",
    ").add_to(m)\n",
    "\n",
    "#m.save('../../plots/population_density_sa2.html')\n",
    "m"
   ]
  }
 ],
 "metadata": {
  "kernelspec": {
   "display_name": "base",
   "language": "python",
   "name": "python3"
  },
  "language_info": {
   "codemirror_mode": {
    "name": "ipython",
    "version": 3
   },
   "file_extension": ".py",
   "mimetype": "text/x-python",
   "name": "python",
   "nbconvert_exporter": "python",
   "pygments_lexer": "ipython3",
   "version": "3.8.5"
  },
  "orig_nbformat": 4
 },
 "nbformat": 4,
 "nbformat_minor": 2
}
