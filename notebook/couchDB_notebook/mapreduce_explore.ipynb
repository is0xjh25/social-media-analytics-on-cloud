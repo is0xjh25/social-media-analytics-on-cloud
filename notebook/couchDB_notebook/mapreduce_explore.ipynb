{
 "cells": [
  {
   "attachments": {},
   "cell_type": "markdown",
   "metadata": {},
   "source": []
  },
  {
   "cell_type": "code",
   "execution_count": 16,
   "metadata": {},
   "outputs": [],
   "source": [
    "import couchdb\n",
    "from dotenv import load_dotenv\n",
    "import os"
   ]
  },
  {
   "cell_type": "code",
   "execution_count": 19,
   "metadata": {},
   "outputs": [],
   "source": [
    "load_dotenv(\"../key.env\")\n",
    "SECRET_KEY = os.environ.get(\"SECRET_KEY\")"
   ]
  },
  {
   "cell_type": "code",
   "execution_count": 2,
   "metadata": {},
   "outputs": [
    {
     "ename": "ServerError",
     "evalue": "(410, ('gone', 'Temporary views are not supported in CouchDB'))",
     "output_type": "error",
     "traceback": [
      "\u001b[0;31m---------------------------------------------------------------------------\u001b[0m",
      "\u001b[0;31mServerError\u001b[0m                               Traceback (most recent call last)",
      "Cell \u001b[0;32mIn[2], line 10\u001b[0m\n\u001b[1;32m      5\u001b[0m db[\u001b[39m'\u001b[39m\u001b[39mgotham\u001b[39m\u001b[39m'\u001b[39m] \u001b[39m=\u001b[39m \u001b[39mdict\u001b[39m(\u001b[39mtype\u001b[39m\u001b[39m=\u001b[39m\u001b[39m'\u001b[39m\u001b[39mCity\u001b[39m\u001b[39m'\u001b[39m, name\u001b[39m=\u001b[39m\u001b[39m'\u001b[39m\u001b[39mGotham City\u001b[39m\u001b[39m'\u001b[39m)\n\u001b[1;32m      6\u001b[0m map_fun \u001b[39m=\u001b[39m \u001b[39m'''\u001b[39m\u001b[39mfunction(doc) \u001b[39m\u001b[39m{\u001b[39m\n\u001b[1;32m      7\u001b[0m \u001b[39m    if (doc.type == \u001b[39m\u001b[39m'\u001b[39m\u001b[39mPerson\u001b[39m\u001b[39m'\u001b[39m\u001b[39m)\u001b[39m\n\u001b[1;32m      8\u001b[0m \u001b[39m        emit(doc.name, null);\u001b[39m\n\u001b[1;32m      9\u001b[0m \u001b[39m}\u001b[39m\u001b[39m'''\u001b[39m\n\u001b[0;32m---> 10\u001b[0m \u001b[39mfor\u001b[39;00m row \u001b[39min\u001b[39;00m db\u001b[39m.\u001b[39mquery(map_fun):\n\u001b[1;32m     11\u001b[0m     \u001b[39mprint\u001b[39m(row\u001b[39m.\u001b[39mkey)\n",
      "File \u001b[0;32m~/miniconda3/lib/python3.9/site-packages/couchdb/client.py:1358\u001b[0m, in \u001b[0;36mViewResults.__iter__\u001b[0;34m(self)\u001b[0m\n\u001b[1;32m   1357\u001b[0m \u001b[39mdef\u001b[39;00m \u001b[39m__iter__\u001b[39m(\u001b[39mself\u001b[39m):\n\u001b[0;32m-> 1358\u001b[0m     \u001b[39mreturn\u001b[39;00m \u001b[39miter\u001b[39m(\u001b[39mself\u001b[39;49m\u001b[39m.\u001b[39;49mrows)\n",
      "File \u001b[0;32m~/miniconda3/lib/python3.9/site-packages/couchdb/client.py:1378\u001b[0m, in \u001b[0;36mViewResults.rows\u001b[0;34m(self)\u001b[0m\n\u001b[1;32m   1373\u001b[0m \u001b[39m\u001b[39m\u001b[39m\"\"\"The list of rows returned by the view.\u001b[39;00m\n\u001b[1;32m   1374\u001b[0m \n\u001b[1;32m   1375\u001b[0m \u001b[39m:rtype: `list`\u001b[39;00m\n\u001b[1;32m   1376\u001b[0m \u001b[39m\"\"\"\u001b[39;00m\n\u001b[1;32m   1377\u001b[0m \u001b[39mif\u001b[39;00m \u001b[39mself\u001b[39m\u001b[39m.\u001b[39m_rows \u001b[39mis\u001b[39;00m \u001b[39mNone\u001b[39;00m:\n\u001b[0;32m-> 1378\u001b[0m     \u001b[39mself\u001b[39;49m\u001b[39m.\u001b[39;49m_fetch()\n\u001b[1;32m   1379\u001b[0m \u001b[39mreturn\u001b[39;00m \u001b[39mself\u001b[39m\u001b[39m.\u001b[39m_rows\n",
      "File \u001b[0;32m~/miniconda3/lib/python3.9/site-packages/couchdb/client.py:1364\u001b[0m, in \u001b[0;36mViewResults._fetch\u001b[0;34m(self)\u001b[0m\n\u001b[1;32m   1363\u001b[0m \u001b[39mdef\u001b[39;00m \u001b[39m_fetch\u001b[39m(\u001b[39mself\u001b[39m):\n\u001b[0;32m-> 1364\u001b[0m     data \u001b[39m=\u001b[39m \u001b[39mself\u001b[39;49m\u001b[39m.\u001b[39;49mview\u001b[39m.\u001b[39;49m_exec(\u001b[39mself\u001b[39;49m\u001b[39m.\u001b[39;49moptions)\n\u001b[1;32m   1365\u001b[0m     wrapper \u001b[39m=\u001b[39m \u001b[39mself\u001b[39m\u001b[39m.\u001b[39mview\u001b[39m.\u001b[39mwrapper \u001b[39mor\u001b[39;00m Row\n\u001b[1;32m   1366\u001b[0m     \u001b[39mself\u001b[39m\u001b[39m.\u001b[39m_rows \u001b[39m=\u001b[39m [wrapper(row) \u001b[39mfor\u001b[39;00m row \u001b[39min\u001b[39;00m data[\u001b[39m'\u001b[39m\u001b[39mrows\u001b[39m\u001b[39m'\u001b[39m]]\n",
      "File \u001b[0;32m~/miniconda3/lib/python3.9/site-packages/couchdb/client.py:1262\u001b[0m, in \u001b[0;36mTemporaryView._exec\u001b[0;34m(self, options)\u001b[0m\n\u001b[1;32m   1260\u001b[0m     body[\u001b[39m'\u001b[39m\u001b[39mkeys\u001b[39m\u001b[39m'\u001b[39m] \u001b[39m=\u001b[39m options\u001b[39m.\u001b[39mpop(\u001b[39m'\u001b[39m\u001b[39mkeys\u001b[39m\u001b[39m'\u001b[39m)\n\u001b[1;32m   1261\u001b[0m content \u001b[39m=\u001b[39m json\u001b[39m.\u001b[39mencode(body)\u001b[39m.\u001b[39mencode(\u001b[39m'\u001b[39m\u001b[39mutf-8\u001b[39m\u001b[39m'\u001b[39m)\n\u001b[0;32m-> 1262\u001b[0m _, _, data \u001b[39m=\u001b[39m \u001b[39mself\u001b[39;49m\u001b[39m.\u001b[39;49mresource\u001b[39m.\u001b[39;49mpost_json(body\u001b[39m=\u001b[39;49mcontent, headers\u001b[39m=\u001b[39;49m{\n\u001b[1;32m   1263\u001b[0m     \u001b[39m'\u001b[39;49m\u001b[39mContent-Type\u001b[39;49m\u001b[39m'\u001b[39;49m: \u001b[39m'\u001b[39;49m\u001b[39mapplication/json\u001b[39;49m\u001b[39m'\u001b[39;49m\n\u001b[1;32m   1264\u001b[0m }, \u001b[39m*\u001b[39;49m\u001b[39m*\u001b[39;49m_encode_view_options(options))\n\u001b[1;32m   1265\u001b[0m \u001b[39mreturn\u001b[39;00m data\n",
      "File \u001b[0;32m~/miniconda3/lib/python3.9/site-packages/couchdb/http.py:573\u001b[0m, in \u001b[0;36mResource.post_json\u001b[0;34m(self, path, body, headers, **params)\u001b[0m\n\u001b[1;32m    572\u001b[0m \u001b[39mdef\u001b[39;00m \u001b[39mpost_json\u001b[39m(\u001b[39mself\u001b[39m, path\u001b[39m=\u001b[39m\u001b[39mNone\u001b[39;00m, body\u001b[39m=\u001b[39m\u001b[39mNone\u001b[39;00m, headers\u001b[39m=\u001b[39m\u001b[39mNone\u001b[39;00m, \u001b[39m*\u001b[39m\u001b[39m*\u001b[39mparams):\n\u001b[0;32m--> 573\u001b[0m     \u001b[39mreturn\u001b[39;00m \u001b[39mself\u001b[39;49m\u001b[39m.\u001b[39;49m_request_json(\u001b[39m'\u001b[39;49m\u001b[39mPOST\u001b[39;49m\u001b[39m'\u001b[39;49m, path, body\u001b[39m=\u001b[39;49mbody, headers\u001b[39m=\u001b[39;49mheaders,\n\u001b[1;32m    574\u001b[0m                               \u001b[39m*\u001b[39;49m\u001b[39m*\u001b[39;49mparams)\n",
      "File \u001b[0;32m~/miniconda3/lib/python3.9/site-packages/couchdb/http.py:595\u001b[0m, in \u001b[0;36mResource._request_json\u001b[0;34m(self, method, path, body, headers, **params)\u001b[0m\n\u001b[1;32m    594\u001b[0m \u001b[39mdef\u001b[39;00m \u001b[39m_request_json\u001b[39m(\u001b[39mself\u001b[39m, method, path\u001b[39m=\u001b[39m\u001b[39mNone\u001b[39;00m, body\u001b[39m=\u001b[39m\u001b[39mNone\u001b[39;00m, headers\u001b[39m=\u001b[39m\u001b[39mNone\u001b[39;00m, \u001b[39m*\u001b[39m\u001b[39m*\u001b[39mparams):\n\u001b[0;32m--> 595\u001b[0m     status, headers, data \u001b[39m=\u001b[39m \u001b[39mself\u001b[39;49m\u001b[39m.\u001b[39;49m_request(method, path, body\u001b[39m=\u001b[39;49mbody,\n\u001b[1;32m    596\u001b[0m                                           headers\u001b[39m=\u001b[39;49mheaders, \u001b[39m*\u001b[39;49m\u001b[39m*\u001b[39;49mparams)\n\u001b[1;32m    597\u001b[0m     \u001b[39mif\u001b[39;00m \u001b[39m'\u001b[39m\u001b[39mapplication/json\u001b[39m\u001b[39m'\u001b[39m \u001b[39min\u001b[39;00m headers\u001b[39m.\u001b[39mget(\u001b[39m'\u001b[39m\u001b[39mcontent-type\u001b[39m\u001b[39m'\u001b[39m, \u001b[39m'\u001b[39m\u001b[39m'\u001b[39m):\n\u001b[1;32m    598\u001b[0m         data \u001b[39m=\u001b[39m json\u001b[39m.\u001b[39mdecode(data\u001b[39m.\u001b[39mread()\u001b[39m.\u001b[39mdecode(\u001b[39m'\u001b[39m\u001b[39mutf-8\u001b[39m\u001b[39m'\u001b[39m))\n",
      "File \u001b[0;32m~/miniconda3/lib/python3.9/site-packages/couchdb/http.py:590\u001b[0m, in \u001b[0;36mResource._request\u001b[0;34m(self, method, path, body, headers, **params)\u001b[0m\n\u001b[1;32m    588\u001b[0m \u001b[39melse\u001b[39;00m:\n\u001b[1;32m    589\u001b[0m     url \u001b[39m=\u001b[39m urljoin(\u001b[39mself\u001b[39m\u001b[39m.\u001b[39murl, \u001b[39m*\u001b[39m\u001b[39m*\u001b[39mparams)\n\u001b[0;32m--> 590\u001b[0m \u001b[39mreturn\u001b[39;00m \u001b[39mself\u001b[39;49m\u001b[39m.\u001b[39;49msession\u001b[39m.\u001b[39;49mrequest(method, url, body\u001b[39m=\u001b[39;49mbody,\n\u001b[1;32m    591\u001b[0m                             headers\u001b[39m=\u001b[39;49mall_headers,\n\u001b[1;32m    592\u001b[0m                             credentials\u001b[39m=\u001b[39;49m\u001b[39mself\u001b[39;49m\u001b[39m.\u001b[39;49mcredentials)\n",
      "File \u001b[0;32m~/miniconda3/lib/python3.9/site-packages/couchdb/http.py:429\u001b[0m, in \u001b[0;36mSession.request\u001b[0;34m(self, method, url, body, headers, credentials, num_redirects)\u001b[0m\n\u001b[1;32m    427\u001b[0m         \u001b[39mraise\u001b[39;00m PreconditionFailed(error)\n\u001b[1;32m    428\u001b[0m     \u001b[39melse\u001b[39;00m:\n\u001b[0;32m--> 429\u001b[0m         \u001b[39mraise\u001b[39;00m ServerError((status, error))\n\u001b[1;32m    431\u001b[0m \u001b[39m# Store cachable responses\u001b[39;00m\n\u001b[1;32m    432\u001b[0m \u001b[39mif\u001b[39;00m \u001b[39mnot\u001b[39;00m streamed \u001b[39mand\u001b[39;00m method \u001b[39m==\u001b[39m \u001b[39m'\u001b[39m\u001b[39mGET\u001b[39m\u001b[39m'\u001b[39m \u001b[39mand\u001b[39;00m \u001b[39m'\u001b[39m\u001b[39metag\u001b[39m\u001b[39m'\u001b[39m \u001b[39min\u001b[39;00m resp\u001b[39m.\u001b[39mmsg:\n",
      "\u001b[0;31mServerError\u001b[0m: (410, ('gone', 'Temporary views are not supported in CouchDB'))"
     ]
    }
   ],
   "source": [
    "\n",
    "server = couchdb.Server(f'http://{SECRET_KEY}@localhost:5984/')\n",
    "db = server.create('python-tests')\n",
    "db['johndoe'] = dict(type='Person', name='John Doe')\n",
    "db['maryjane'] = dict(type='Person', name='Mary Jane')\n",
    "db['gotham'] = dict(type='City', name='Gotham City')\n",
    "map_fun = '''function(doc) {\n",
    "    if (doc.type == 'Person')\n",
    "        emit(doc.name, null);\n",
    "}'''\n",
    "for row in db.query(map_fun):\n",
    "    print(row.key)"
   ]
  },
  {
   "cell_type": "code",
   "execution_count": null,
   "metadata": {},
   "outputs": [],
   "source": [
    "for row in db.query(map_fun, descending=True):\n",
    "    print(row.key)"
   ]
  },
  {
   "cell_type": "code",
   "execution_count": null,
   "metadata": {},
   "outputs": [],
   "source": [
    "for row in db.query(map_fun, key='John Doe'):\n",
    "    print(row.key)"
   ]
  },
  {
   "attachments": {},
   "cell_type": "markdown",
   "metadata": {},
   "source": [
    "### Add data"
   ]
  },
  {
   "cell_type": "code",
   "execution_count": null,
   "metadata": {},
   "outputs": [],
   "source": [
    "db['gotham'] = dict(type='City', name='Gotham City')"
   ]
  },
  {
   "cell_type": "code",
   "execution_count": 5,
   "metadata": {},
   "outputs": [
    {
     "name": "stdout",
     "output_type": "stream",
     "text": [
      "gotham\n",
      "johndoe\n",
      "maryjane\n"
     ]
    }
   ],
   "source": [
    "for row in db.view('_all_docs'):\n",
    "    print(row.id)"
   ]
  },
  {
   "attachments": {},
   "cell_type": "markdown",
   "metadata": {},
   "source": []
  },
  {
   "cell_type": "code",
   "execution_count": 10,
   "metadata": {},
   "outputs": [
    {
     "data": {
      "text/plain": [
       "<ViewResults <TemporaryView 'function(doc) {\\n    emit([doc.type, doc.name], doc.name);\\n}' None> {}>"
      ]
     },
     "execution_count": 10,
     "metadata": {},
     "output_type": "execute_result"
    }
   ],
   "source": [
    "# db['johndoe'] = dict(type='Person', name='John Doe')\n",
    "# db['maryjane'] = dict(type='Person', name='Mary Jane')\n",
    "# db['gotham'] = dict(type='City', name='Gotham City')\n",
    "map_fun = '''function(doc) {\n",
    "    emit([doc.type, doc.name], doc.name);\n",
    "}'''\n",
    "results = db.query(map_fun)\n",
    "results"
   ]
  },
  {
   "cell_type": "code",
   "execution_count": null,
   "metadata": {},
   "outputs": [],
   "source": [
    "len(results)"
   ]
  },
  {
   "cell_type": "code",
   "execution_count": 12,
   "metadata": {},
   "outputs": [
    {
     "ename": "ServerError",
     "evalue": "(410, ('gone', 'Temporary views are not supported in CouchDB'))",
     "output_type": "error",
     "traceback": [
      "\u001b[0;31m---------------------------------------------------------------------------\u001b[0m",
      "\u001b[0;31mServerError\u001b[0m                               Traceback (most recent call last)",
      "Cell \u001b[0;32mIn[12], line 2\u001b[0m\n\u001b[1;32m      1\u001b[0m people \u001b[39m=\u001b[39m results[[\u001b[39m'\u001b[39m\u001b[39mPerson\u001b[39m\u001b[39m'\u001b[39m]:[\u001b[39m'\u001b[39m\u001b[39mPerson\u001b[39m\u001b[39m'\u001b[39m,\u001b[39m'\u001b[39m\u001b[39mZZZZ\u001b[39m\u001b[39m'\u001b[39m]]\n\u001b[0;32m----> 2\u001b[0m \u001b[39mfor\u001b[39;00m person \u001b[39min\u001b[39;00m people:\n\u001b[1;32m      3\u001b[0m     \u001b[39mprint\u001b[39m(person\u001b[39m.\u001b[39mvalue)\n",
      "File \u001b[0;32m~/miniconda3/lib/python3.9/site-packages/couchdb/client.py:1358\u001b[0m, in \u001b[0;36mViewResults.__iter__\u001b[0;34m(self)\u001b[0m\n\u001b[1;32m   1357\u001b[0m \u001b[39mdef\u001b[39;00m \u001b[39m__iter__\u001b[39m(\u001b[39mself\u001b[39m):\n\u001b[0;32m-> 1358\u001b[0m     \u001b[39mreturn\u001b[39;00m \u001b[39miter\u001b[39m(\u001b[39mself\u001b[39;49m\u001b[39m.\u001b[39;49mrows)\n",
      "File \u001b[0;32m~/miniconda3/lib/python3.9/site-packages/couchdb/client.py:1378\u001b[0m, in \u001b[0;36mViewResults.rows\u001b[0;34m(self)\u001b[0m\n\u001b[1;32m   1373\u001b[0m \u001b[39m\u001b[39m\u001b[39m\"\"\"The list of rows returned by the view.\u001b[39;00m\n\u001b[1;32m   1374\u001b[0m \n\u001b[1;32m   1375\u001b[0m \u001b[39m:rtype: `list`\u001b[39;00m\n\u001b[1;32m   1376\u001b[0m \u001b[39m\"\"\"\u001b[39;00m\n\u001b[1;32m   1377\u001b[0m \u001b[39mif\u001b[39;00m \u001b[39mself\u001b[39m\u001b[39m.\u001b[39m_rows \u001b[39mis\u001b[39;00m \u001b[39mNone\u001b[39;00m:\n\u001b[0;32m-> 1378\u001b[0m     \u001b[39mself\u001b[39;49m\u001b[39m.\u001b[39;49m_fetch()\n\u001b[1;32m   1379\u001b[0m \u001b[39mreturn\u001b[39;00m \u001b[39mself\u001b[39m\u001b[39m.\u001b[39m_rows\n",
      "File \u001b[0;32m~/miniconda3/lib/python3.9/site-packages/couchdb/client.py:1364\u001b[0m, in \u001b[0;36mViewResults._fetch\u001b[0;34m(self)\u001b[0m\n\u001b[1;32m   1363\u001b[0m \u001b[39mdef\u001b[39;00m \u001b[39m_fetch\u001b[39m(\u001b[39mself\u001b[39m):\n\u001b[0;32m-> 1364\u001b[0m     data \u001b[39m=\u001b[39m \u001b[39mself\u001b[39;49m\u001b[39m.\u001b[39;49mview\u001b[39m.\u001b[39;49m_exec(\u001b[39mself\u001b[39;49m\u001b[39m.\u001b[39;49moptions)\n\u001b[1;32m   1365\u001b[0m     wrapper \u001b[39m=\u001b[39m \u001b[39mself\u001b[39m\u001b[39m.\u001b[39mview\u001b[39m.\u001b[39mwrapper \u001b[39mor\u001b[39;00m Row\n\u001b[1;32m   1366\u001b[0m     \u001b[39mself\u001b[39m\u001b[39m.\u001b[39m_rows \u001b[39m=\u001b[39m [wrapper(row) \u001b[39mfor\u001b[39;00m row \u001b[39min\u001b[39;00m data[\u001b[39m'\u001b[39m\u001b[39mrows\u001b[39m\u001b[39m'\u001b[39m]]\n",
      "File \u001b[0;32m~/miniconda3/lib/python3.9/site-packages/couchdb/client.py:1262\u001b[0m, in \u001b[0;36mTemporaryView._exec\u001b[0;34m(self, options)\u001b[0m\n\u001b[1;32m   1260\u001b[0m     body[\u001b[39m'\u001b[39m\u001b[39mkeys\u001b[39m\u001b[39m'\u001b[39m] \u001b[39m=\u001b[39m options\u001b[39m.\u001b[39mpop(\u001b[39m'\u001b[39m\u001b[39mkeys\u001b[39m\u001b[39m'\u001b[39m)\n\u001b[1;32m   1261\u001b[0m content \u001b[39m=\u001b[39m json\u001b[39m.\u001b[39mencode(body)\u001b[39m.\u001b[39mencode(\u001b[39m'\u001b[39m\u001b[39mutf-8\u001b[39m\u001b[39m'\u001b[39m)\n\u001b[0;32m-> 1262\u001b[0m _, _, data \u001b[39m=\u001b[39m \u001b[39mself\u001b[39;49m\u001b[39m.\u001b[39;49mresource\u001b[39m.\u001b[39;49mpost_json(body\u001b[39m=\u001b[39;49mcontent, headers\u001b[39m=\u001b[39;49m{\n\u001b[1;32m   1263\u001b[0m     \u001b[39m'\u001b[39;49m\u001b[39mContent-Type\u001b[39;49m\u001b[39m'\u001b[39;49m: \u001b[39m'\u001b[39;49m\u001b[39mapplication/json\u001b[39;49m\u001b[39m'\u001b[39;49m\n\u001b[1;32m   1264\u001b[0m }, \u001b[39m*\u001b[39;49m\u001b[39m*\u001b[39;49m_encode_view_options(options))\n\u001b[1;32m   1265\u001b[0m \u001b[39mreturn\u001b[39;00m data\n",
      "File \u001b[0;32m~/miniconda3/lib/python3.9/site-packages/couchdb/http.py:573\u001b[0m, in \u001b[0;36mResource.post_json\u001b[0;34m(self, path, body, headers, **params)\u001b[0m\n\u001b[1;32m    572\u001b[0m \u001b[39mdef\u001b[39;00m \u001b[39mpost_json\u001b[39m(\u001b[39mself\u001b[39m, path\u001b[39m=\u001b[39m\u001b[39mNone\u001b[39;00m, body\u001b[39m=\u001b[39m\u001b[39mNone\u001b[39;00m, headers\u001b[39m=\u001b[39m\u001b[39mNone\u001b[39;00m, \u001b[39m*\u001b[39m\u001b[39m*\u001b[39mparams):\n\u001b[0;32m--> 573\u001b[0m     \u001b[39mreturn\u001b[39;00m \u001b[39mself\u001b[39;49m\u001b[39m.\u001b[39;49m_request_json(\u001b[39m'\u001b[39;49m\u001b[39mPOST\u001b[39;49m\u001b[39m'\u001b[39;49m, path, body\u001b[39m=\u001b[39;49mbody, headers\u001b[39m=\u001b[39;49mheaders,\n\u001b[1;32m    574\u001b[0m                               \u001b[39m*\u001b[39;49m\u001b[39m*\u001b[39;49mparams)\n",
      "File \u001b[0;32m~/miniconda3/lib/python3.9/site-packages/couchdb/http.py:595\u001b[0m, in \u001b[0;36mResource._request_json\u001b[0;34m(self, method, path, body, headers, **params)\u001b[0m\n\u001b[1;32m    594\u001b[0m \u001b[39mdef\u001b[39;00m \u001b[39m_request_json\u001b[39m(\u001b[39mself\u001b[39m, method, path\u001b[39m=\u001b[39m\u001b[39mNone\u001b[39;00m, body\u001b[39m=\u001b[39m\u001b[39mNone\u001b[39;00m, headers\u001b[39m=\u001b[39m\u001b[39mNone\u001b[39;00m, \u001b[39m*\u001b[39m\u001b[39m*\u001b[39mparams):\n\u001b[0;32m--> 595\u001b[0m     status, headers, data \u001b[39m=\u001b[39m \u001b[39mself\u001b[39;49m\u001b[39m.\u001b[39;49m_request(method, path, body\u001b[39m=\u001b[39;49mbody,\n\u001b[1;32m    596\u001b[0m                                           headers\u001b[39m=\u001b[39;49mheaders, \u001b[39m*\u001b[39;49m\u001b[39m*\u001b[39;49mparams)\n\u001b[1;32m    597\u001b[0m     \u001b[39mif\u001b[39;00m \u001b[39m'\u001b[39m\u001b[39mapplication/json\u001b[39m\u001b[39m'\u001b[39m \u001b[39min\u001b[39;00m headers\u001b[39m.\u001b[39mget(\u001b[39m'\u001b[39m\u001b[39mcontent-type\u001b[39m\u001b[39m'\u001b[39m, \u001b[39m'\u001b[39m\u001b[39m'\u001b[39m):\n\u001b[1;32m    598\u001b[0m         data \u001b[39m=\u001b[39m json\u001b[39m.\u001b[39mdecode(data\u001b[39m.\u001b[39mread()\u001b[39m.\u001b[39mdecode(\u001b[39m'\u001b[39m\u001b[39mutf-8\u001b[39m\u001b[39m'\u001b[39m))\n",
      "File \u001b[0;32m~/miniconda3/lib/python3.9/site-packages/couchdb/http.py:590\u001b[0m, in \u001b[0;36mResource._request\u001b[0;34m(self, method, path, body, headers, **params)\u001b[0m\n\u001b[1;32m    588\u001b[0m \u001b[39melse\u001b[39;00m:\n\u001b[1;32m    589\u001b[0m     url \u001b[39m=\u001b[39m urljoin(\u001b[39mself\u001b[39m\u001b[39m.\u001b[39murl, \u001b[39m*\u001b[39m\u001b[39m*\u001b[39mparams)\n\u001b[0;32m--> 590\u001b[0m \u001b[39mreturn\u001b[39;00m \u001b[39mself\u001b[39;49m\u001b[39m.\u001b[39;49msession\u001b[39m.\u001b[39;49mrequest(method, url, body\u001b[39m=\u001b[39;49mbody,\n\u001b[1;32m    591\u001b[0m                             headers\u001b[39m=\u001b[39;49mall_headers,\n\u001b[1;32m    592\u001b[0m                             credentials\u001b[39m=\u001b[39;49m\u001b[39mself\u001b[39;49m\u001b[39m.\u001b[39;49mcredentials)\n",
      "File \u001b[0;32m~/miniconda3/lib/python3.9/site-packages/couchdb/http.py:429\u001b[0m, in \u001b[0;36mSession.request\u001b[0;34m(self, method, url, body, headers, credentials, num_redirects)\u001b[0m\n\u001b[1;32m    427\u001b[0m         \u001b[39mraise\u001b[39;00m PreconditionFailed(error)\n\u001b[1;32m    428\u001b[0m     \u001b[39melse\u001b[39;00m:\n\u001b[0;32m--> 429\u001b[0m         \u001b[39mraise\u001b[39;00m ServerError((status, error))\n\u001b[1;32m    431\u001b[0m \u001b[39m# Store cachable responses\u001b[39;00m\n\u001b[1;32m    432\u001b[0m \u001b[39mif\u001b[39;00m \u001b[39mnot\u001b[39;00m streamed \u001b[39mand\u001b[39;00m method \u001b[39m==\u001b[39m \u001b[39m'\u001b[39m\u001b[39mGET\u001b[39m\u001b[39m'\u001b[39m \u001b[39mand\u001b[39;00m \u001b[39m'\u001b[39m\u001b[39metag\u001b[39m\u001b[39m'\u001b[39m \u001b[39min\u001b[39;00m resp\u001b[39m.\u001b[39mmsg:\n",
      "\u001b[0;31mServerError\u001b[0m: (410, ('gone', 'Temporary views are not supported in CouchDB'))"
     ]
    }
   ],
   "source": [
    "people = results[['Person']:['Person','ZZZZ']]\n",
    "for person in people:\n",
    "    print(person.value)"
   ]
  },
  {
   "cell_type": "code",
   "execution_count": null,
   "metadata": {},
   "outputs": [],
   "source": [
    "\n",
    "function (document) {\n",
    "  const [date, time] = document.visitedAt.split(\"T\");\n",
    "  const [year, month, day] = date.split(\"-\");\n",
    "  emit([year, month, day], 1);\n",
    "}"
   ]
  }
 ],
 "metadata": {
  "kernelspec": {
   "display_name": "base",
   "language": "python",
   "name": "python3"
  },
  "language_info": {
   "codemirror_mode": {
    "name": "ipython",
    "version": 3
   },
   "file_extension": ".py",
   "mimetype": "text/x-python",
   "name": "python",
   "nbconvert_exporter": "python",
   "pygments_lexer": "ipython3",
   "version": "3.9.12"
  },
  "orig_nbformat": 4
 },
 "nbformat": 4,
 "nbformat_minor": 2
}
