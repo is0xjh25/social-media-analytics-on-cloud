{
 "cells": [
  {
   "attachments": {},
   "cell_type": "markdown",
   "metadata": {},
   "source": [
    "https://docs.couchbase.com/server/current/learn/views/views-writing.html\n",
    "\n",
    "https://couchdb-python.readthedocs.io/en/latest/client.html#database\n",
    "https://docs.couchbase.com/server/current/learn/views/views-writing.html\n",
    "https://www.joshmorony.com/couchdb-pouchdb-and-ionic-2-querying-data-with-mapreduce/\n",
    "https://blog.pablobm.com/2019/07/18/map-reduce-with-couchdb-a-visual-primer.html"
   ]
  },
  {
   "attachments": {},
   "cell_type": "markdown",
   "metadata": {},
   "source": [
    "Map candidates\n",
    "- Time\n",
    "- Location\n",
    "- Happiness score (see the happy vs unhappy)\n",
    "- Behaviours labels (6)\n",
    "- User ID\n",
    "- (opt) tokens"
   ]
  },
  {
   "cell_type": "code",
   "execution_count": 1,
   "metadata": {},
   "outputs": [],
   "source": [
    "import couchdb\n",
    "from dotenv import load_dotenv\n",
    "import os"
   ]
  },
  {
   "cell_type": "code",
   "execution_count": 2,
   "metadata": {},
   "outputs": [],
   "source": [
    "load_dotenv(\"../key.env\")\n",
    "SECRET_KEY = os.environ.get(\"SECRET_KEY\")"
   ]
  },
  {
   "cell_type": "code",
   "execution_count": 3,
   "metadata": {},
   "outputs": [
    {
     "data": {
      "text/plain": [
       "<ViewResults <TemporaryView 'function(d) {\\n    emit(d.id, d.key);\\n}' None> {}>"
      ]
     },
     "execution_count": 3,
     "metadata": {},
     "output_type": "execute_result"
    }
   ],
   "source": [
    "couch = couchdb.Server(f'http://{SECRET_KEY}@localhost:5984/')\n",
    "db = couch['twitter_loc']\n",
    "\n",
    "# map_fun = '''function(d) {\n",
    "#     const [date, time] = doc.doc.created_at.split(\"T\");\n",
    "#     const [year, month, day] = date.split(\"-\");\n",
    "#     emit(doc.doc.created_at);\n",
    "# }'''\n",
    "map_fun = '''function(d) {\n",
    "    emit(d.id, d.key);\n",
    "}'''\n",
    "db.query(map_fun)\n"
   ]
  },
  {
   "cell_type": "code",
   "execution_count": 4,
   "metadata": {},
   "outputs": [
    {
     "name": "stdout",
     "output_type": "stream",
     "text": [
      "python-tests\n",
      "test1\n",
      "twitter_loc\n"
     ]
    }
   ],
   "source": [
    "for dbname in couch:\n",
    "    print(dbname)"
   ]
  },
  {
   "cell_type": "code",
   "execution_count": 5,
   "metadata": {},
   "outputs": [
    {
     "ename": "ValueError",
     "evalue": "not enough values to unpack (expected 2, got 1)",
     "output_type": "error",
     "traceback": [
      "\u001b[0;31m---------------------------------------------------------------------------\u001b[0m",
      "\u001b[0;31mValueError\u001b[0m                                Traceback (most recent call last)",
      "Cell \u001b[0;32mIn[5], line 1\u001b[0m\n\u001b[0;32m----> 1\u001b[0m view \u001b[39m=\u001b[39m db\u001b[39m.\u001b[39;49mview(\u001b[39m'\u001b[39;49m\u001b[39mtheview\u001b[39;49m\u001b[39m'\u001b[39;49m)\n",
      "File \u001b[0;32m~/miniconda3/lib/python3.9/site-packages/couchdb/client.py:1007\u001b[0m, in \u001b[0;36mDatabase.view\u001b[0;34m(self, name, wrapper, **options)\u001b[0m\n\u001b[1;32m    984\u001b[0m \u001b[39mdef\u001b[39;00m \u001b[39mview\u001b[39m(\u001b[39mself\u001b[39m, name, wrapper\u001b[39m=\u001b[39m\u001b[39mNone\u001b[39;00m, \u001b[39m*\u001b[39m\u001b[39m*\u001b[39moptions):\n\u001b[1;32m    985\u001b[0m \u001b[39m    \u001b[39m\u001b[39m\"\"\"Execute a predefined view.\u001b[39;00m\n\u001b[1;32m    986\u001b[0m \n\u001b[1;32m    987\u001b[0m \u001b[39m    >>> server = Server()\u001b[39;00m\n\u001b[0;32m   (...)\u001b[0m\n\u001b[1;32m   1005\u001b[0m \u001b[39m    :rtype: `ViewResults`\u001b[39;00m\n\u001b[1;32m   1006\u001b[0m \u001b[39m    \"\"\"\u001b[39;00m\n\u001b[0;32m-> 1007\u001b[0m     path \u001b[39m=\u001b[39m _path_from_name(name, \u001b[39m'\u001b[39;49m\u001b[39m_view\u001b[39;49m\u001b[39m'\u001b[39;49m)\n\u001b[1;32m   1008\u001b[0m     \u001b[39mreturn\u001b[39;00m PermanentView(\u001b[39mself\u001b[39m\u001b[39m.\u001b[39mresource(\u001b[39m*\u001b[39mpath), \u001b[39m'\u001b[39m\u001b[39m/\u001b[39m\u001b[39m'\u001b[39m\u001b[39m.\u001b[39mjoin(path),\n\u001b[1;32m   1009\u001b[0m                          wrapper\u001b[39m=\u001b[39mwrapper)(\u001b[39m*\u001b[39m\u001b[39m*\u001b[39moptions)\n",
      "File \u001b[0;32m~/miniconda3/lib/python3.9/site-packages/couchdb/client.py:1165\u001b[0m, in \u001b[0;36m_path_from_name\u001b[0;34m(name, type)\u001b[0m\n\u001b[1;32m   1163\u001b[0m \u001b[39mif\u001b[39;00m name\u001b[39m.\u001b[39mstartswith(\u001b[39m'\u001b[39m\u001b[39m_\u001b[39m\u001b[39m'\u001b[39m):\n\u001b[1;32m   1164\u001b[0m     \u001b[39mreturn\u001b[39;00m name\u001b[39m.\u001b[39msplit(\u001b[39m'\u001b[39m\u001b[39m/\u001b[39m\u001b[39m'\u001b[39m)\n\u001b[0;32m-> 1165\u001b[0m design, name \u001b[39m=\u001b[39m name\u001b[39m.\u001b[39msplit(\u001b[39m'\u001b[39m\u001b[39m/\u001b[39m\u001b[39m'\u001b[39m, \u001b[39m1\u001b[39m)\n\u001b[1;32m   1166\u001b[0m \u001b[39mreturn\u001b[39;00m [\u001b[39m'\u001b[39m\u001b[39m_design\u001b[39m\u001b[39m'\u001b[39m, design, \u001b[39mtype\u001b[39m, name]\n",
      "\u001b[0;31mValueError\u001b[0m: not enough values to unpack (expected 2, got 1)"
     ]
    }
   ],
   "source": [
    "view = db.view('theview')"
   ]
  },
  {
   "cell_type": "code",
   "execution_count": null,
   "metadata": {},
   "outputs": [],
   "source": [
    "couch = couchdb.Server(f'http://{SECRET_KEY}@localhost:5984/')\n",
    "db = couch['twitter_loc']\n",
    "for doc in db.find({'selector': {'type': 'post'}}):\n",
    "    # process your doc\n",
    "    print(doc)"
   ]
  },
  {
   "attachments": {},
   "cell_type": "markdown",
   "metadata": {},
   "source": [
    "https://gist.github.com/marians/8e41fc817f04de7c4a70"
   ]
  },
  {
   "cell_type": "code",
   "execution_count": null,
   "metadata": {},
   "outputs": [],
   "source": [
    "for doc in db.find({'selector': {\"post_id\": \"1491633713435738113\", \"author_id\":\"1446643791956348932\"}}):\n",
    "     print(doc)"
   ]
  },
  {
   "cell_type": "code",
   "execution_count": null,
   "metadata": {},
   "outputs": [],
   "source": [
    "for item in db.view('design_doc/view_name', limit=100):\n",
    "    print(item.key, item.id, item.value)"
   ]
  },
  {
   "cell_type": "code",
   "execution_count": null,
   "metadata": {},
   "outputs": [],
   "source": [
    "for item in db.view('design_doc/view_name', descending=True):\n",
    "    print(item.key, item.id, item.value)"
   ]
  },
  {
   "cell_type": "code",
   "execution_count": null,
   "metadata": {},
   "outputs": [],
   "source": [
    "for item in db.view('design_doc/view_name', group=True, group_level=1):\n",
    "    print(item.key, item.value)"
   ]
  },
  {
   "cell_type": "code",
   "execution_count": null,
   "metadata": {},
   "outputs": [],
   "source": [
    "for item in db.view('design_doc/view_name', key=\"my_key\"):\n",
    "    print(item.key, item.id, item.value)"
   ]
  },
  {
   "cell_type": "code",
   "execution_count": null,
   "metadata": {},
   "outputs": [],
   "source": [
    "for item in db.view('design_doc/view_name', startkey=\"startkey\", endkey=\"endkey\"):\n",
    "    print(item.key, item.id, item.value)"
   ]
  },
  {
   "cell_type": "code",
   "execution_count": null,
   "metadata": {},
   "outputs": [],
   "source": []
  },
  {
   "cell_type": "code",
   "execution_count": null,
   "metadata": {},
   "outputs": [],
   "source": [
    "idx = db.index()\n",
    "list(idx)"
   ]
  },
  {
   "cell_type": "code",
   "execution_count": null,
   "metadata": {},
   "outputs": [],
   "source": [
    "for id in db:\n",
    "    print(db[id][\"created_at\"])"
   ]
  },
  {
   "cell_type": "code",
   "execution_count": null,
   "metadata": {},
   "outputs": [],
   "source": [
    "for row in db.query(map_fun, descending=True):\n",
    "    print(row.key)"
   ]
  },
  {
   "cell_type": "code",
   "execution_count": null,
   "metadata": {},
   "outputs": [],
   "source": [
    "for row in db.query(map_fun, key='John Doe'):\n",
    "    print(row.key)"
   ]
  },
  {
   "attachments": {},
   "cell_type": "markdown",
   "metadata": {},
   "source": [
    "### Add data"
   ]
  },
  {
   "cell_type": "code",
   "execution_count": null,
   "metadata": {},
   "outputs": [],
   "source": [
    "db['gotham'] = dict(type='City', name='Gotham City')"
   ]
  },
  {
   "cell_type": "code",
   "execution_count": null,
   "metadata": {},
   "outputs": [],
   "source": [
    "for row in db.view('_all_docs'):\n",
    "    print(row.id)"
   ]
  },
  {
   "cell_type": "code",
   "execution_count": null,
   "metadata": {},
   "outputs": [],
   "source": [
    "# db['johndoe'] = dict(type='Person', name='John Doe')\n",
    "# db['maryjane'] = dict(type='Person', name='Mary Jane')\n",
    "# db['gotham'] = dict(type='City', name='Gotham City')\n",
    "map_fun = '''function(doc) {\n",
    "    emit([doc.type, doc.name], doc.name);\n",
    "}'''\n",
    "results = db.query(map_fun)\n",
    "results"
   ]
  },
  {
   "cell_type": "code",
   "execution_count": null,
   "metadata": {},
   "outputs": [],
   "source": [
    "len(results)"
   ]
  },
  {
   "cell_type": "code",
   "execution_count": null,
   "metadata": {},
   "outputs": [],
   "source": [
    "people = results[['Person']:['Person','ZZZZ']]\n",
    "for person in people:\n",
    "    print(person.value)"
   ]
  },
  {
   "cell_type": "code",
   "execution_count": null,
   "metadata": {},
   "outputs": [],
   "source": [
    "\n",
    "function (document) {\n",
    "  const [date, time] = document.visitedAt.split(\"T\");\n",
    "  const [year, month, day] = date.split(\"-\");\n",
    "  emit([year, month, day], 1);\n",
    "}"
   ]
  },
  {
   "cell_type": "code",
   "execution_count": null,
   "metadata": {},
   "outputs": [],
   "source": []
  },
  {
   "cell_type": "code",
   "execution_count": null,
   "metadata": {},
   "outputs": [],
   "source": []
  },
  {
   "cell_type": "code",
   "execution_count": null,
   "metadata": {},
   "outputs": [],
   "source": []
  }
 ],
 "metadata": {
  "kernelspec": {
   "display_name": "base",
   "language": "python",
   "name": "python3"
  },
  "language_info": {
   "codemirror_mode": {
    "name": "ipython",
    "version": 3
   },
   "file_extension": ".py",
   "mimetype": "text/x-python",
   "name": "python",
   "nbconvert_exporter": "python",
   "pygments_lexer": "ipython3",
   "version": "3.9.12"
  },
  "orig_nbformat": 4
 },
 "nbformat": 4,
 "nbformat_minor": 2
}
