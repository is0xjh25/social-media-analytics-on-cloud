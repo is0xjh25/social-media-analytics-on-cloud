{
 "cells": [
  {
   "attachments": {},
   "cell_type": "markdown",
   "metadata": {},
   "source": [
    "# Score twitter data on CouchDB"
   ]
  },
  {
   "cell_type": "code",
   "execution_count": null,
   "metadata": {},
   "outputs": [],
   "source": [
    "import couchdb\n",
    "import yaml\n",
    "import ijson\n",
    "from happiness_mining import scoring as hs\n",
    "from happiness_mining import nlp"
   ]
  },
  {
   "attachments": {},
   "cell_type": "markdown",
   "metadata": {},
   "source": [
    "### Read couchDB admin name and password"
   ]
  },
  {
   "cell_type": "code",
   "execution_count": 2,
   "metadata": {},
   "outputs": [],
   "source": [
    "SECRET_KEY = \"\"\n",
    "with open('couch_key.yaml', 'r') as file:\n",
    "    key = yaml.safe_load(file)\n",
    "    SECRET_KEY = key[\"SECRET_KEY\"]"
   ]
  },
  {
   "attachments": {},
   "cell_type": "markdown",
   "metadata": {},
   "source": [
    "### Connect couchDB Server\n",
    "- 172.26.132.37\n",
    "- 172.26.135.50\n",
    "- 172.26.128.176"
   ]
  },
  {
   "cell_type": "code",
   "execution_count": 12,
   "metadata": {},
   "outputs": [],
   "source": [
    "couch = couchdb.Server(f'http://{SECRET_KEY}@172.26.135.50:5984/')"
   ]
  },
  {
   "attachments": {},
   "cell_type": "markdown",
   "metadata": {},
   "source": [
    "### Check exist database"
   ]
  },
  {
   "cell_type": "code",
   "execution_count": 13,
   "metadata": {},
   "outputs": [
    {
     "name": "stdout",
     "output_type": "stream",
     "text": [
      "testone\n",
      "testthree\n",
      "testtwo\n",
      "twitter\n"
     ]
    }
   ],
   "source": [
    "for i in couch:\n",
    "    print(i)"
   ]
  },
  {
   "attachments": {},
   "cell_type": "markdown",
   "metadata": {},
   "source": [
    "### Create database"
   ]
  },
  {
   "cell_type": "code",
   "execution_count": 14,
   "metadata": {},
   "outputs": [],
   "source": [
    "db_name = 'twitter'\n",
    "if db_name not in couch:\n",
    "    db = couch.create(db_name)\n",
    "else:\n",
    "    db = couch[db_name]"
   ]
  },
  {
   "cell_type": "code",
   "execution_count": 22,
   "metadata": {},
   "outputs": [
    {
     "name": "stderr",
     "output_type": "stream",
     "text": [
      "/home/ubuntu/social-media-analytics-on-cloud/notebook/couchDB_notebook/happiness_mining/nlp.py:33: MarkupResemblesLocatorWarning: The input looks more like a filename than markup. You may want to open this file and pass the filehandle into Beautiful Soup.\n",
      "  tmp = BeautifulSoup(text, features=\"html.parser\").text\n"
     ]
    }
   ],
   "source": [
    "model = hs.happiness_score()\n",
    "\n",
    "for i in db:\n",
    "    doc = db[i]\n",
    "    # Scoring\n",
    "    if doc['language'] == 'en' and 'happiness_score' not in doc:\n",
    "        tokens = nlp.create_tokens(doc['content'])\n",
    "        doc['happiness_score'] =  model.scoring_by_text(tokens)\n",
    "        db.save(doc)"
   ]
  },
  {
   "cell_type": "code",
   "execution_count": null,
   "metadata": {},
   "outputs": [],
   "source": []
  },
  {
   "cell_type": "code",
   "execution_count": null,
   "metadata": {},
   "outputs": [],
   "source": []
  }
 ],
 "metadata": {
  "kernelspec": {
   "display_name": ".venv",
   "language": "python",
   "name": "python3"
  },
  "language_info": {
   "codemirror_mode": {
    "name": "ipython",
    "version": 3
   },
   "file_extension": ".py",
   "mimetype": "text/x-python",
   "name": "python",
   "nbconvert_exporter": "python",
   "pygments_lexer": "ipython3",
   "version": "3.10.6"
  },
  "orig_nbformat": 4
 },
 "nbformat": 4,
 "nbformat_minor": 2
}
