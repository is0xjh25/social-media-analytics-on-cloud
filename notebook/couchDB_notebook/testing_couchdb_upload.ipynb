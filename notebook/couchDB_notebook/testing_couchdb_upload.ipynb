{
 "cells": [
  {
   "cell_type": "code",
   "execution_count": 4,
   "metadata": {},
   "outputs": [
    {
     "ename": "TypeError",
     "evalue": "string indices must be integers, not 'str'",
     "output_type": "error",
     "traceback": [
      "\u001b[0;31m---------------------------------------------------------------------------\u001b[0m",
      "\u001b[0;31mTypeError\u001b[0m                                 Traceback (most recent call last)",
      "Cell \u001b[0;32mIn[4], line 1\u001b[0m\n\u001b[0;32m----> 1\u001b[0m \u001b[39mfrom\u001b[39;00m \u001b[39mhappiness_mining\u001b[39;00m \u001b[39mimport\u001b[39;00m couchdb_upload\n",
      "File \u001b[0;32m~/Documents/GitHub/social-media-analytics-on-cloud/notebook/couchDB_notebook/happiness_mining/couchdb_upload.py:8\u001b[0m\n\u001b[1;32m      6\u001b[0m \u001b[39mwith\u001b[39;00m \u001b[39mopen\u001b[39m(\u001b[39m'\u001b[39m\u001b[39m./happiness_mining/couch_key.yaml\u001b[39m\u001b[39m'\u001b[39m, \u001b[39m'\u001b[39m\u001b[39mr\u001b[39m\u001b[39m'\u001b[39m) \u001b[39mas\u001b[39;00m file:\n\u001b[1;32m      7\u001b[0m     key \u001b[39m=\u001b[39m yaml\u001b[39m.\u001b[39msafe_load(file)\n\u001b[0;32m----> 8\u001b[0m     SECRET_KEY \u001b[39m=\u001b[39m key[\u001b[39m\"\u001b[39;49m\u001b[39mSECRET_KEY\u001b[39;49m\u001b[39m\"\u001b[39;49m]\n\u001b[1;32m     10\u001b[0m couch \u001b[39m=\u001b[39m couchdb\u001b[39m.\u001b[39mServer(\u001b[39mf\u001b[39m\u001b[39m'\u001b[39m\u001b[39mhttp://\u001b[39m\u001b[39m{\u001b[39;00mSECRET_KEY\u001b[39m}\u001b[39;00m\u001b[39m@172.26.132.37:5984/\u001b[39m\u001b[39m'\u001b[39m)\n\u001b[1;32m     13\u001b[0m db_name \u001b[39m=\u001b[39m \u001b[39m'\u001b[39m\u001b[39mtwitter\u001b[39m\u001b[39m'\u001b[39m\n",
      "\u001b[0;31mTypeError\u001b[0m: string indices must be integers, not 'str'"
     ]
    }
   ],
   "source": [
    "from happiness_mining import couchdb_upload"
   ]
  }
 ],
 "metadata": {
  "kernelspec": {
   "display_name": "Python 3",
   "language": "python",
   "name": "python3"
  },
  "language_info": {
   "codemirror_mode": {
    "name": "ipython",
    "version": 3
   },
   "file_extension": ".py",
   "mimetype": "text/x-python",
   "name": "python",
   "nbconvert_exporter": "python",
   "pygments_lexer": "ipython3",
   "version": "3.11.2"
  },
  "orig_nbformat": 4
 },
 "nbformat": 4,
 "nbformat_minor": 2
}
