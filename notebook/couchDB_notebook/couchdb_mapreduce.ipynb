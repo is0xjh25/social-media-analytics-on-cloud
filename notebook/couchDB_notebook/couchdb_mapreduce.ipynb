{
 "cells": [
  {
   "cell_type": "code",
   "execution_count": 16,
   "metadata": {},
   "outputs": [],
   "source": [
    "import couchdb\n",
    "import yaml"
   ]
  },
  {
   "cell_type": "code",
   "execution_count": 2,
   "metadata": {},
   "outputs": [],
   "source": [
    "SECRET_KEY = \"\"\n",
    "with open('couch_key.yaml', 'r') as file:\n",
    "    key = yaml.safe_load(file)\n",
    "    SECRET_KEY = key[\"SECRET_KEY\"]"
   ]
  },
  {
   "cell_type": "code",
   "execution_count": 26,
   "metadata": {},
   "outputs": [],
   "source": [
    "server = couchdb.Server(f'http://{SECRET_KEY}@172.26.135.50:5984/')"
   ]
  },
  {
   "cell_type": "code",
   "execution_count": 6,
   "metadata": {},
   "outputs": [],
   "source": [
    "db = server.create('python-tests')"
   ]
  },
  {
   "cell_type": "code",
   "execution_count": 7,
   "metadata": {},
   "outputs": [
    {
     "data": {
      "text/plain": [
       "<Person '0bde37bfc9aefdfe2c54c35886000fb5'@'1-1b311da960f4f46fc7d99dbc09bd2630' {'name': 'John Doe', 'age': 42, 'added': '2023-05-10T11:30:03.514930Z'}>"
      ]
     },
     "execution_count": 7,
     "metadata": {},
     "output_type": "execute_result"
    }
   ],
   "source": [
    "from datetime import datetime\n",
    "from couchdb.mapping import Document, TextField, IntegerField, DateTimeField\n",
    "class Person(Document):\n",
    "    name = TextField()\n",
    "    age = IntegerField()\n",
    "    added = DateTimeField(default=datetime.now)\n",
    "person = Person(name='John Doe', age=42)\n",
    "person.store(db)"
   ]
  },
  {
   "cell_type": "code",
   "execution_count": 8,
   "metadata": {},
   "outputs": [
    {
     "data": {
      "text/plain": [
       "42"
      ]
     },
     "execution_count": 8,
     "metadata": {},
     "output_type": "execute_result"
    }
   ],
   "source": [
    "person.age"
   ]
  },
  {
   "cell_type": "code",
   "execution_count": 9,
   "metadata": {},
   "outputs": [
    {
     "data": {
      "text/plain": [
       "datetime.datetime(2023, 5, 10, 11, 30, 3, 514930)"
      ]
     },
     "execution_count": 9,
     "metadata": {},
     "output_type": "execute_result"
    }
   ],
   "source": [
    "person = Person.load(db, person.id)\n",
    "old_rev = person.rev\n",
    "person.name\n",
    "person.age\n",
    "person.added   "
   ]
  },
  {
   "cell_type": "code",
   "execution_count": 10,
   "metadata": {},
   "outputs": [
    {
     "data": {
      "text/plain": [
       "<Person '0bde37bfc9aefdfe2c54c35886000fb5'@'2-997107abac93398cedfeb4a204542bba' {'name': 'John R. Doe', 'age': 42, 'added': '2023-05-10T11:30:03.514930Z'}>"
      ]
     },
     "execution_count": 10,
     "metadata": {},
     "output_type": "execute_result"
    }
   ],
   "source": [
    "person.name = 'John R. Doe'\n",
    "person.store(db)    "
   ]
  },
  {
   "cell_type": "code",
   "execution_count": 11,
   "metadata": {},
   "outputs": [
    {
     "data": {
      "text/plain": [
       "True"
      ]
     },
     "execution_count": 11,
     "metadata": {},
     "output_type": "execute_result"
    }
   ],
   "source": [
    "person = Person.load(db, person.id)\n",
    "person.name\n",
    "person.rev != old_rev"
   ]
  },
  {
   "attachments": {},
   "cell_type": "markdown",
   "metadata": {},
   "source": [
    "https://couchdb-python.readthedocs.io/en/latest/mapping.html"
   ]
  },
  {
   "cell_type": "code",
   "execution_count": 47,
   "metadata": {},
   "outputs": [],
   "source": [
    "from couchdb.mapping import TextField\n",
    "from couchdb.mapping import FloatField\n",
    "from couchdb.mapping import IntegerField\n",
    "from couchdb.mapping import LongField\n",
    "from couchdb.mapping import BooleanField\n",
    "from couchdb.mapping import DecimalField\n",
    "from couchdb.mapping import DateField\n",
    "from couchdb.mapping import DictField\n",
    "from couchdb.mapping import ListField\n",
    "from couchdb.mapping import ViewField\n",
    "from couchdb.mapping import Mapping"
   ]
  },
  {
   "cell_type": "code",
   "execution_count": 20,
   "metadata": {},
   "outputs": [],
   "source": [
    "from datetime import date"
   ]
  },
  {
   "attachments": {},
   "cell_type": "markdown",
   "metadata": {},
   "source": [
    "### class couchdb.mapping.DateField(name=None, default=None)\n",
    "Mapping field for storing dates."
   ]
  },
  {
   "cell_type": "code",
   "execution_count": 21,
   "metadata": {},
   "outputs": [
    {
     "name": "stdout",
     "output_type": "stream",
     "text": [
      "2007-04-01\n",
      "2007-04-01\n",
      "2007-04-01\n"
     ]
    }
   ],
   "source": [
    "field = DateField()\n",
    "\n",
    "print(field._to_python('2007-04-01'))\n",
    "\n",
    "print(field._to_json(date(2007, 4, 1)))\n",
    "\n",
    "print(field._to_json(datetime(2007, 4, 1, 15, 30)))\n"
   ]
  },
  {
   "attachments": {},
   "cell_type": "markdown",
   "metadata": {},
   "source": [
    "### class couchdb.mapping.DateTimeField(name=None, default=None)\n",
    "Mapping field for storing date/time values."
   ]
  },
  {
   "cell_type": "code",
   "execution_count": 23,
   "metadata": {},
   "outputs": [
    {
     "name": "stdout",
     "output_type": "stream",
     "text": [
      "2007-04-01 15:30:00\n",
      "2007-04-01 15:30:00.009876\n",
      "2007-04-01T15:30:00Z\n",
      "2007-04-01T15:30:00.009876Z\n",
      "2007-04-01T00:00:00Z\n"
     ]
    }
   ],
   "source": [
    "field = DateTimeField()\n",
    "print(field._to_python('2007-04-01T15:30:00Z'))\n",
    "\n",
    "print(field._to_python('2007-04-01T15:30:00.009876Z'))\n",
    "\n",
    "print(field._to_json(datetime(2007, 4, 1, 15, 30, 0)))\n",
    "\n",
    "print(field._to_json(datetime(2007, 4, 1, 15, 30, 0, 9876)))\n",
    "\n",
    "print(field._to_json(date(2007, 4, 1)))"
   ]
  },
  {
   "attachments": {},
   "cell_type": "markdown",
   "metadata": {},
   "source": [
    "### class couchdb.mapping.DictField(mapping=None, name=None, default=None)\n",
    "Field type for nested dictionaries."
   ]
  },
  {
   "cell_type": "code",
   "execution_count": 28,
   "metadata": {},
   "outputs": [],
   "source": [
    "from couchdb import Server\n",
    "\n",
    "if 'python-tests' not in server:\n",
    "    db = server.create('python-tests')\n",
    "else:\n",
    "    db = server['python-tests']"
   ]
  },
  {
   "cell_type": "code",
   "execution_count": 35,
   "metadata": {},
   "outputs": [],
   "source": [
    "class Post(Document):\n",
    "    title = TextField()\n",
    "    content = TextField()\n",
    "    author = DictField(Mapping.build(\n",
    "        name = TextField(),\n",
    "        email = TextField()\n",
    "    ))\n",
    "    extra = DictField()"
   ]
  },
  {
   "cell_type": "code",
   "execution_count": 37,
   "metadata": {},
   "outputs": [
    {
     "name": "stdout",
     "output_type": "stream",
     "text": [
      "John Doe\n",
      "john@doe.com\n",
      "{'foo': 'bar'}\n"
     ]
    }
   ],
   "source": [
    "post = Post(\n",
    "    title='Foo bar',\n",
    "    author=dict(name='John Doe',\n",
    "                email='john@doe.com'),\n",
    "    extra=dict(foo='bar'),\n",
    ")\n",
    "post.store(db)\n",
    "\n",
    "post = Post.load(db, post.id)\n",
    "print(post.author.name)\n",
    "print(post.author.email)\n",
    "print(post.extra)\n"
   ]
  },
  {
   "cell_type": "code",
   "execution_count": 38,
   "metadata": {},
   "outputs": [],
   "source": [
    "del server['python-tests']"
   ]
  },
  {
   "attachments": {},
   "cell_type": "markdown",
   "metadata": {},
   "source": [
    "### class couchdb.mapping.ListField(field, name=None, default=None)\n",
    "Field type for sequences of other fields."
   ]
  },
  {
   "cell_type": "code",
   "execution_count": 39,
   "metadata": {},
   "outputs": [],
   "source": [
    "from couchdb import Server\n",
    "\n",
    "if 'python-tests' not in server:\n",
    "    db = server.create('python-tests')\n",
    "else:\n",
    "    db = server['python-tests']"
   ]
  },
  {
   "cell_type": "code",
   "execution_count": 43,
   "metadata": {},
   "outputs": [],
   "source": [
    "class Post(Document):\n",
    "    title = TextField()\n",
    "    content = TextField()\n",
    "    pubdate = DateTimeField(default=datetime.now)\n",
    "    comments = ListField(DictField(Mapping.build(\n",
    "        author = TextField(),\n",
    "        content = TextField(),\n",
    "        time = DateTimeField()\n",
    "    )))"
   ]
  },
  {
   "cell_type": "code",
   "execution_count": 44,
   "metadata": {},
   "outputs": [
    {
     "name": "stdout",
     "output_type": "stream",
     "text": [
      "myself\n",
      "Bla bla\n",
      "2023-05-10T11:49:53.944498Z\n",
      "[{'author': 'myself', 'content': 'Bla bla', 'time': '2023-05-10T11:49:53.944498Z'}]\n"
     ]
    }
   ],
   "source": [
    "post = Post(title='Foo bar')\n",
    "post.comments.append(author='myself', content='Bla bla',\n",
    "                     time=datetime.now())\n",
    "len(post.comments)\n",
    "\n",
    "post.store(db) \n",
    "\n",
    "post = Post.load(db, post.id)\n",
    "comment = post.comments[0]\n",
    "print(comment['author'])\n",
    "\n",
    "print(comment['content'])\n",
    "\n",
    "print(comment['time'])\n",
    "\n",
    "print(post.comments)"
   ]
  },
  {
   "cell_type": "code",
   "execution_count": 45,
   "metadata": {},
   "outputs": [],
   "source": [
    "del server['python-tests']"
   ]
  },
  {
   "attachments": {},
   "cell_type": "markdown",
   "metadata": {},
   "source": [
    "### class couchdb.mapping.ViewField(design, map_fun, reduce_fun=None, name=None, language='javascript', wrapper=<object object>, **defaults) \n",
    "</br>\n",
    "Descriptor that can be used to bind a view definition to a property of a Document class."
   ]
  },
  {
   "cell_type": "code",
   "execution_count": 48,
   "metadata": {},
   "outputs": [
    {
     "data": {
      "text/plain": [
       "<ViewDefinition '_design/people/_view/by_name'>"
      ]
     },
     "execution_count": 48,
     "metadata": {},
     "output_type": "execute_result"
    }
   ],
   "source": [
    "class Person(Document):\n",
    "    name = TextField()\n",
    "    age = IntegerField()\n",
    "    by_name = ViewField('people', '''\\\n",
    "        function(doc) {\n",
    "            emit(doc.name, doc);\n",
    "        }''')\n",
    "Person.by_name"
   ]
  },
  {
   "cell_type": "code",
   "execution_count": 49,
   "metadata": {},
   "outputs": [
    {
     "name": "stdout",
     "output_type": "stream",
     "text": [
      "function(doc) {\n",
      "    emit(doc.name, doc);\n",
      "}\n"
     ]
    }
   ],
   "source": [
    "print(Person.by_name.map_fun)"
   ]
  },
  {
   "cell_type": "code",
   "execution_count": 54,
   "metadata": {},
   "outputs": [
    {
     "data": {
      "text/plain": [
       "<ViewResults <PermanentView '_design/people/_view/by_name'> {'count': 2}>"
      ]
     },
     "execution_count": 54,
     "metadata": {},
     "output_type": "execute_result"
    }
   ],
   "source": [
    "Person.by_name(db, count=3)"
   ]
  },
  {
   "cell_type": "code",
   "execution_count": 51,
   "metadata": {},
   "outputs": [],
   "source": [
    "class Person(Document):\n",
    "    name = TextField()\n",
    "    age = IntegerField()\n",
    "\n",
    "    @ViewField.define('people')\n",
    "    def by_name(doc):\n",
    "        yield doc['name'], doc"
   ]
  },
  {
   "cell_type": "code",
   "execution_count": 52,
   "metadata": {},
   "outputs": [
    {
     "data": {
      "text/plain": [
       "<ViewDefinition '_design/people/_view/by_name'>"
      ]
     },
     "execution_count": 52,
     "metadata": {},
     "output_type": "execute_result"
    }
   ],
   "source": [
    "Person.by_name"
   ]
  },
  {
   "cell_type": "code",
   "execution_count": 53,
   "metadata": {},
   "outputs": [
    {
     "name": "stdout",
     "output_type": "stream",
     "text": [
      "def by_name(doc):\n",
      "    yield doc['name'], doc\n"
     ]
    }
   ],
   "source": [
    "print(Person.by_name.map_fun)"
   ]
  }
 ],
 "metadata": {
  "kernelspec": {
   "display_name": ".venv",
   "language": "python",
   "name": "python3"
  },
  "language_info": {
   "codemirror_mode": {
    "name": "ipython",
    "version": 3
   },
   "file_extension": ".py",
   "mimetype": "text/x-python",
   "name": "python",
   "nbconvert_exporter": "python",
   "pygments_lexer": "ipython3",
   "version": "3.10.6"
  },
  "orig_nbformat": 4
 },
 "nbformat": 4,
 "nbformat_minor": 2
}
