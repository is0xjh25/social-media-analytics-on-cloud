{
 "cells": [
  {
   "attachments": {},
   "cell_type": "markdown",
   "metadata": {},
   "source": [
    "# CouchDB Partition"
   ]
  },
  {
   "attachments": {},
   "cell_type": "markdown",
   "metadata": {},
   "source": [
    "### CouchDB partition using API\n",
    "Link:  \n",
    "https://docs.couchdb.org/en/stable/partitioned-dbs/index.html  \n",
    "</br>\n",
    "Command:  \n",
    "shell> curl -X PUT http://127.0.0.1:5984/my_new_db?partitioned=true\n",
    "\n",
    "{\"ok\":true}\n",
    "\n"
   ]
  },
  {
   "cell_type": "code",
   "execution_count": null,
   "metadata": {},
   "outputs": [],
   "source": []
  }
 ],
 "metadata": {
  "language_info": {
   "name": "python"
  },
  "orig_nbformat": 4
 },
 "nbformat": 4,
 "nbformat_minor": 2
}
