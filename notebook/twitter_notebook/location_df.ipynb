{
 "cells": [
  {
   "attachments": {},
   "cell_type": "markdown",
   "metadata": {},
   "source": [
    "# Update location information\n",
    "### Twitter API key list\n",
    "#### - Consumer Keys\n",
    "- API Key & API Secret\n",
    "#### - Authentication Tokens\n",
    "- Bearer Token\n",
    "- Access Token & Access Secret"
   ]
  },
  {
   "attachments": {},
   "cell_type": "markdown",
   "metadata": {},
   "source": [
    "Read .env file to read API key (Create your own .env file and write down the API keys)"
   ]
  },
  {
   "cell_type": "code",
   "execution_count": 1,
   "metadata": {},
   "outputs": [
    {
     "ename": "ModuleNotFoundError",
     "evalue": "No module named 'dotenv'",
     "output_type": "error",
     "traceback": [
      "\u001b[0;31m---------------------------------------------------------------------------\u001b[0m",
      "\u001b[0;31mModuleNotFoundError\u001b[0m                       Traceback (most recent call last)",
      "Cell \u001b[0;32mIn[1], line 1\u001b[0m\n\u001b[0;32m----> 1\u001b[0m \u001b[39mfrom\u001b[39;00m \u001b[39mdotenv\u001b[39;00m \u001b[39mimport\u001b[39;00m load_dotenv\n\u001b[1;32m      2\u001b[0m \u001b[39mimport\u001b[39;00m \u001b[39mos\u001b[39;00m\n\u001b[1;32m      3\u001b[0m load_dotenv()\n",
      "\u001b[0;31mModuleNotFoundError\u001b[0m: No module named 'dotenv'"
     ]
    }
   ],
   "source": [
    "from dotenv import load_dotenv\n",
    "import os\n",
    "load_dotenv()\n",
    "BEARER_TOKEN = os.environ.get(\"BEARER_TOKEN\")\n",
    "API_KEY = os.environ.get(\"API_KEY\")\n",
    "API_SECRET = os.environ.get(\"API_SECRET\")\n",
    "ACCESS_TOKEN = os.environ.get(\"ACCESS_TOKEN\")\n",
    "ACCESS_TOKEN_SECRET = os.environ.get(\"ACCESS_TOKEN_SECRET\")"
   ]
  },
  {
   "attachments": {},
   "cell_type": "markdown",
   "metadata": {},
   "source": [
    "Request location information regarding place_id"
   ]
  },
  {
   "cell_type": "code",
   "execution_count": 5,
   "metadata": {},
   "outputs": [],
   "source": [
    "import requests\n",
    "\n",
    "def get_data(BEARER_TOKEN, url):\n",
    "    headers = {'Authorization': \"Bearer \" + str(BEARER_TOKEN) }\n",
    "    response = requests.get(url, headers=headers)\n",
    "    response_data = response.json()\n",
    "    print(response_data)\n",
    "    return response_data"
   ]
  },
  {
   "attachments": {},
   "cell_type": "markdown",
   "metadata": {},
   "source": [
    "Example of requesting information"
   ]
  },
  {
   "cell_type": "code",
   "execution_count": 63,
   "metadata": {},
   "outputs": [
    {
     "data": {
      "text/plain": [
       "{'errors': [{'message': 'Rate limit exceeded', 'code': 88}]}"
      ]
     },
     "execution_count": 63,
     "metadata": {},
     "output_type": "execute_result"
    }
   ],
   "source": [
    "place_id = \"0073b76548e5984f\"\n",
    "get_data(BEARER_TOKEN, f\"https://api.twitter.com/1.1/geo/id/{place_id}.json\")"
   ]
  },
  {
   "attachments": {},
   "cell_type": "markdown",
   "metadata": {},
   "source": [
    "### Update information to csv"
   ]
  },
  {
   "cell_type": "code",
   "execution_count": 38,
   "metadata": {},
   "outputs": [],
   "source": [
    "import pandas as pd\n",
    "import os\n",
    "\n",
    "def update_location_info(place_id):\n",
    "    path = \"../data/curated/place_id.csv\"\n",
    "    if os.path.exists(path):\n",
    "        df = pd.read_csv(path, index_col=0)\n",
    "        if place_id not in df.index:\n",
    "            tmp = get_data(BEARER_TOKEN, f\"https://api.twitter.com/1.1/geo/id/{place_id}.json\")\n",
    "            add = pd.DataFrame({'full_name':[tmp[\"full_name\"]], 'country_code':[tmp['country_code']]}, index=[place_id])\n",
    "            df = pd.concat([df, add])\n",
    "            df.to_csv(path)\n",
    "    else:\n",
    "        tmp = get_data(BEARER_TOKEN, f\"https://api.twitter.com/1.1/geo/id/{place_id}.json\")\n",
    "        add = pd.DataFrame({'full_name':[tmp[\"full_name\"]], 'country_code':[tmp['country_code']]}, index=[place_id])\n",
    "        add.to_csv(path)"
   ]
  },
  {
   "cell_type": "code",
   "execution_count": 61,
   "metadata": {},
   "outputs": [],
   "source": [
    "place_id = \"0118c71c0ed41109\"\n",
    "update_location_info(place_id)"
   ]
  },
  {
   "cell_type": "code",
   "execution_count": 64,
   "metadata": {},
   "outputs": [
    {
     "data": {
      "text/html": [
       "<div>\n",
       "<style scoped>\n",
       "    .dataframe tbody tr th:only-of-type {\n",
       "        vertical-align: middle;\n",
       "    }\n",
       "\n",
       "    .dataframe tbody tr th {\n",
       "        vertical-align: top;\n",
       "    }\n",
       "\n",
       "    .dataframe thead th {\n",
       "        text-align: right;\n",
       "    }\n",
       "</style>\n",
       "<table border=\"1\" class=\"dataframe\">\n",
       "  <thead>\n",
       "    <tr style=\"text-align: right;\">\n",
       "      <th></th>\n",
       "      <th>full_name</th>\n",
       "      <th>country_code</th>\n",
       "    </tr>\n",
       "  </thead>\n",
       "  <tbody>\n",
       "    <tr>\n",
       "      <th>0073b76548e5984f</th>\n",
       "      <td>Sydney, New South Wales</td>\n",
       "      <td>AU</td>\n",
       "    </tr>\n",
       "    <tr>\n",
       "      <th>002891d33ed032d3</th>\n",
       "      <td>Darwin, Northern Territory</td>\n",
       "      <td>AU</td>\n",
       "    </tr>\n",
       "    <tr>\n",
       "      <th>0ec0c4fcacbd0083</th>\n",
       "      <td>Victoria, Australia</td>\n",
       "      <td>AU</td>\n",
       "    </tr>\n",
       "    <tr>\n",
       "      <th>0118c71c0ed41109</th>\n",
       "      <td>Perth, Western Australia</td>\n",
       "      <td>AU</td>\n",
       "    </tr>\n",
       "    <tr>\n",
       "      <th>00637ebe39362fcb</th>\n",
       "      <td>Nowra - Bomaderry, New South Wales</td>\n",
       "      <td>AU</td>\n",
       "    </tr>\n",
       "    <tr>\n",
       "      <th>...</th>\n",
       "      <td>...</td>\n",
       "      <td>...</td>\n",
       "    </tr>\n",
       "    <tr>\n",
       "      <th>05f5a0d89e34b4f8</th>\n",
       "      <td>Rangeville, Toowoomba</td>\n",
       "      <td>AU</td>\n",
       "    </tr>\n",
       "    <tr>\n",
       "      <th>0116fcf600926d4f</th>\n",
       "      <td>Unayzah, Kingdom of Saudi Arabia</td>\n",
       "      <td>SA</td>\n",
       "    </tr>\n",
       "    <tr>\n",
       "      <th>01a70ec3689d6ca5</th>\n",
       "      <td>Coraki, New South Wales</td>\n",
       "      <td>AU</td>\n",
       "    </tr>\n",
       "    <tr>\n",
       "      <th>5f55ccd2b14ae80b</th>\n",
       "      <td>Coleraine, Victoria</td>\n",
       "      <td>AU</td>\n",
       "    </tr>\n",
       "    <tr>\n",
       "      <th>1da3f138f76523b7</th>\n",
       "      <td>Condamine, Queensland</td>\n",
       "      <td>AU</td>\n",
       "    </tr>\n",
       "  </tbody>\n",
       "</table>\n",
       "<p>78 rows × 2 columns</p>\n",
       "</div>"
      ],
      "text/plain": [
       "                                           full_name country_code\n",
       "0073b76548e5984f             Sydney, New South Wales           AU\n",
       "002891d33ed032d3          Darwin, Northern Territory           AU\n",
       "0ec0c4fcacbd0083                 Victoria, Australia           AU\n",
       "0118c71c0ed41109            Perth, Western Australia           AU\n",
       "00637ebe39362fcb  Nowra - Bomaderry, New South Wales           AU\n",
       "...                                              ...          ...\n",
       "05f5a0d89e34b4f8               Rangeville, Toowoomba           AU\n",
       "0116fcf600926d4f    Unayzah, Kingdom of Saudi Arabia           SA\n",
       "01a70ec3689d6ca5             Coraki, New South Wales           AU\n",
       "5f55ccd2b14ae80b                 Coleraine, Victoria           AU\n",
       "1da3f138f76523b7               Condamine, Queensland           AU\n",
       "\n",
       "[78 rows x 2 columns]"
      ]
     },
     "execution_count": 64,
     "metadata": {},
     "output_type": "execute_result"
    }
   ],
   "source": [
    "path = \"../data/curated/place_id.csv\"\n",
    "pd.read_csv(path, index_col=0)"
   ]
  },
  {
   "cell_type": "code",
   "execution_count": null,
   "metadata": {},
   "outputs": [],
   "source": [
    "import json\n",
    "\n",
    "path = \"../data/raw/sample_tweets.json\"\n",
    "data = None\n",
    "\n",
    "with open(path, 'r') as f:\n",
    "  data = json.load(f)\n",
    "for d in data['listoftweets']:\n",
    "  if 'place_id' in d['doc']['data']['geo']:\n",
    "    place_id = d['doc']['data']['geo']['place_id']\n",
    "    update_location_info(place_id)"
   ]
  }
 ],
 "metadata": {
  "kernelspec": {
   "display_name": "base",
   "language": "python",
   "name": "python3"
  },
  "language_info": {
   "codemirror_mode": {
    "name": "ipython",
    "version": 3
   },
   "file_extension": ".py",
   "mimetype": "text/x-python",
   "name": "python",
   "nbconvert_exporter": "python",
   "pygments_lexer": "ipython3",
   "version": "3.9.12"
  },
  "orig_nbformat": 4
 },
 "nbformat": 4,
 "nbformat_minor": 2
}
