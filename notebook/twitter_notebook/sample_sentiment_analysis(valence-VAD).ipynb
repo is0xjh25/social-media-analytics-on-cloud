{
 "cells": [
  {
   "attachments": {},
   "cell_type": "markdown",
   "metadata": {},
   "source": [
    "## Sample Sentiment Analysis\n",
    "This notebook is a demo of sentiment analysis on a sample tweet data (50MB). We analysed the happy score (by labMIT happiness index) of tweets to discover:\n",
    "\n",
    "### [Senario1] happiness score trend with no geo information\n",
    "* The happiness trend from 2022.2 to 2022.8 (Can only be done with large dataset)\n",
    "* The happiness score by hour \n",
    "* The happiness score by day of week\n",
    "\n",
    "### [Senario2] happiness score trend with geo information\n",
    "* The happiness score of Australia (as a baseline)\n",
    "* The happiness score of states\n",
    "* The happiness score of gcc & rural area\n",
    "* The happiness socre of sal places"
   ]
  },
  {
   "cell_type": "code",
   "execution_count": 2,
   "metadata": {},
   "outputs": [],
   "source": [
    "import json\n",
    "import pandas as pd\n",
    "from datetime import datetime\n",
    "import nltk\n",
    "\n",
    "import matplotlib.pyplot as plt\n",
    "import geopandas as gpd\n",
    "import folium"
   ]
  },
  {
   "cell_type": "code",
   "execution_count": 3,
   "metadata": {},
   "outputs": [],
   "source": [
    "def tokenize_text(text):\n",
    "    return nltk.word_tokenize(text)\n",
    "\n",
    "# This function will calcuate the happi_socre using word frequency and the happy index from labMIT\n",
    "\n",
    "def happi_score(df, index):\n",
    "    all_tokens = sum(df['tokens'], [])\n",
    "\n",
    "    # count word frequency\n",
    "    word_freq = pd.Series(all_tokens).value_counts()\n",
    "    word_freq.name = 'word_freq' \n",
    "\n",
    "    # merge text df with index df\n",
    "    merged_df = pd.merge(index, word_freq, left_on='word', right_index=True)\n",
    "\n",
    "    # recount word frequency as some neutral data will be eliminated\n",
    "    merged_df['word_freq'] = merged_df.word_freq/merged_df.word_freq.sum()\n",
    "    result = (merged_df['valence'] * merged_df['word_freq']).sum()\n",
    "    #print(f'happiness score of {category} is: {result}')\n",
    "    return result\n",
    "\n",
    "def grouped_happi_score(df, group, index_df):\n",
    "    lst = list(df[group].unique())\n",
    "    df_token = df[['tokens',group]]\n",
    "    df_grouped = df_token.groupby(group)['tokens'].sum().reset_index()\n",
    "\n",
    "    happiness_scores = {}\n",
    "    for each_group in lst:\n",
    "        score = happi_score(df_grouped[df_grouped[group] == each_group], index_df)\n",
    "        happiness_scores[each_group] = score\n",
    "    return(happiness_scores)"
   ]
  },
  {
   "cell_type": "code",
   "execution_count": 4,
   "metadata": {},
   "outputs": [
    {
     "data": {
      "text/plain": [
       "\"\\nindex0 = pd.read_csv('../data/raw/happiness_index/labMIT1.csv') #keep neutral words\\nindex_df = index0.loc[(index0['happiness_average'] >= 5.5) | (index0['happiness_average'] <= 4.5)] #eliminate neutral words\\nindex_df1 = index0.loc[(index0['happiness_average'] >= 6) | (index0['happiness_average'] <= 4)] #eliminate neutral words\\nindex1 = index0.loc[(index0['happiness_average'] != 5)] #eliminate neutral words\\n\""
      ]
     },
     "execution_count": 4,
     "metadata": {},
     "output_type": "execute_result"
    }
   ],
   "source": [
    "path = '../data/raw/sample_tweets.json'\n",
    "index0 = pd.read_csv('../data/raw/happiness_index/valence-VAD.csv') #keep neutral words\n",
    "index_df = index0.loc[(index0['valence'] >= 0.55) | (index0['valence'] <= 0.45)] #eliminate neutral words\n",
    "index_df1 = index0.loc[(index0['valence'] >= 0.6) | (index0['valence'] <= 0.4)] #eliminate neutral words\n",
    "\n",
    "'''\n",
    "index0 = pd.read_csv('../data/raw/happiness_index/labMIT1.csv') #keep neutral words\n",
    "index_df = index0.loc[(index0['happiness_average'] >= 5.5) | (index0['happiness_average'] <= 4.5)] #eliminate neutral words\n",
    "index_df1 = index0.loc[(index0['happiness_average'] >= 6) | (index0['happiness_average'] <= 4)] #eliminate neutral words\n",
    "index1 = index0.loc[(index0['happiness_average'] != 5)] #eliminate neutral words\n",
    "'''\n"
   ]
  },
  {
   "cell_type": "code",
   "execution_count": 5,
   "metadata": {},
   "outputs": [],
   "source": [
    "f = open(path)\n",
    "data = json.load(f)\n",
    "extracted_data = []\n",
    "\n",
    "for item in data['listoftweets']:\n",
    "    # check if the item has an \"includes\" field\n",
    "    if \"includes\" in item[\"doc\"]:\n",
    "        # extract the tokens and place_id fields\n",
    "        tokens = item[\"value\"][\"tokens\"].lower().split(\"|\")\n",
    "        place = item[\"doc\"][\"includes\"][\"places\"][0][\"full_name\"]\n",
    "        time = item['doc']['data']['created_at']\n",
    "        dt = datetime.fromisoformat(time[:-1])\n",
    "        day_of_week = dt.weekday()\n",
    "        year = dt.year\n",
    "        month = dt.month\n",
    "        date = dt.day\n",
    "        hour = dt.hour\n",
    "        text = item['doc']['data'][\"text\"]\n",
    "        sentiment = item['doc']['data'][\"sentiment\"]    \n",
    "        \n",
    "        # append the extracted data as a tuple to the extracted_data list\n",
    "        extracted_data.append((tokens, place, day_of_week, year, month, date, hour, sentiment, text))\n",
    "        \n",
    "# create a Pandas dataframe from the extracted data\n",
    "df = pd.DataFrame(extracted_data, columns=[\"tokens\", \"full_name\",\"dof\", \"year\", \"month\", \"date\", \"hour\",\"sentiment\", \"text\"])"
   ]
  },
  {
   "cell_type": "code",
   "execution_count": 6,
   "metadata": {},
   "outputs": [
    {
     "data": {
      "text/html": [
       "<div>\n",
       "<style scoped>\n",
       "    .dataframe tbody tr th:only-of-type {\n",
       "        vertical-align: middle;\n",
       "    }\n",
       "\n",
       "    .dataframe tbody tr th {\n",
       "        vertical-align: top;\n",
       "    }\n",
       "\n",
       "    .dataframe thead th {\n",
       "        text-align: right;\n",
       "    }\n",
       "</style>\n",
       "<table border=\"1\" class=\"dataframe\">\n",
       "  <thead>\n",
       "    <tr style=\"text-align: right;\">\n",
       "      <th></th>\n",
       "      <th>tokens</th>\n",
       "      <th>full_name</th>\n",
       "      <th>dof</th>\n",
       "      <th>year</th>\n",
       "      <th>month</th>\n",
       "      <th>date</th>\n",
       "      <th>hour</th>\n",
       "      <th>sentiment</th>\n",
       "      <th>text</th>\n",
       "    </tr>\n",
       "  </thead>\n",
       "  <tbody>\n",
       "    <tr>\n",
       "      <th>0</th>\n",
       "      <td>[swallows]</td>\n",
       "      <td>Sydney, New South Wales</td>\n",
       "      <td>3</td>\n",
       "      <td>2022</td>\n",
       "      <td>2</td>\n",
       "      <td>10</td>\n",
       "      <td>4</td>\n",
       "      <td>0.000000</td>\n",
       "      <td>@Felon82 He swallows</td>\n",
       "    </tr>\n",
       "    <tr>\n",
       "      <th>1</th>\n",
       "      <td>[yup, zealots, work]</td>\n",
       "      <td>Sydney, New South Wales</td>\n",
       "      <td>3</td>\n",
       "      <td>2022</td>\n",
       "      <td>2</td>\n",
       "      <td>10</td>\n",
       "      <td>5</td>\n",
       "      <td>-0.400000</td>\n",
       "      <td>@marquelawyers Yup! Zealots at work.</td>\n",
       "    </tr>\n",
       "    <tr>\n",
       "      <th>2</th>\n",
       "      <td>[]</td>\n",
       "      <td>Darwin, Northern Territory</td>\n",
       "      <td>3</td>\n",
       "      <td>2022</td>\n",
       "      <td>2</td>\n",
       "      <td>10</td>\n",
       "      <td>0</td>\n",
       "      <td>0.000000</td>\n",
       "      <td>@marquelawyers https://t.co/BFqOUeu7Am</td>\n",
       "    </tr>\n",
       "    <tr>\n",
       "      <th>3</th>\n",
       "      <td>[]</td>\n",
       "      <td>Darwin, Northern Territory</td>\n",
       "      <td>3</td>\n",
       "      <td>2022</td>\n",
       "      <td>2</td>\n",
       "      <td>10</td>\n",
       "      <td>0</td>\n",
       "      <td>0.000000</td>\n",
       "      <td>@MoarToast https://t.co/aYJHMrca17</td>\n",
       "    </tr>\n",
       "    <tr>\n",
       "      <th>4</th>\n",
       "      <td>[sinuses, are, close, upper, teeth, can, have,...</td>\n",
       "      <td>Nowra - Bomaderry, New South Wales</td>\n",
       "      <td>3</td>\n",
       "      <td>2022</td>\n",
       "      <td>2</td>\n",
       "      <td>10</td>\n",
       "      <td>0</td>\n",
       "      <td>-0.090909</td>\n",
       "      <td>@ArtistAffame My sinuses are so close to my up...</td>\n",
       "    </tr>\n",
       "  </tbody>\n",
       "</table>\n",
       "</div>"
      ],
      "text/plain": [
       "                                              tokens  \\\n",
       "0                                         [swallows]   \n",
       "1                               [yup, zealots, work]   \n",
       "2                                                 []   \n",
       "3                                                 []   \n",
       "4  [sinuses, are, close, upper, teeth, can, have,...   \n",
       "\n",
       "                            full_name  dof  year  month  date  hour  \\\n",
       "0             Sydney, New South Wales    3  2022      2    10     4   \n",
       "1             Sydney, New South Wales    3  2022      2    10     5   \n",
       "2          Darwin, Northern Territory    3  2022      2    10     0   \n",
       "3          Darwin, Northern Territory    3  2022      2    10     0   \n",
       "4  Nowra - Bomaderry, New South Wales    3  2022      2    10     0   \n",
       "\n",
       "   sentiment                                               text  \n",
       "0   0.000000                               @Felon82 He swallows  \n",
       "1  -0.400000               @marquelawyers Yup! Zealots at work.  \n",
       "2   0.000000             @marquelawyers https://t.co/BFqOUeu7Am  \n",
       "3   0.000000                 @MoarToast https://t.co/aYJHMrca17  \n",
       "4  -0.090909  @ArtistAffame My sinuses are so close to my up...  "
      ]
     },
     "execution_count": 6,
     "metadata": {},
     "output_type": "execute_result"
    }
   ],
   "source": [
    "df.head()"
   ]
  },
  {
   "cell_type": "code",
   "execution_count": 7,
   "metadata": {},
   "outputs": [
    {
     "data": {
      "text/plain": [
       "0.6191412052781935"
      ]
     },
     "execution_count": 7,
     "metadata": {},
     "output_type": "execute_result"
    }
   ],
   "source": [
    "# some intuitive demo before we attach sal code\n",
    "\n",
    "# Average happy score of AU\n",
    "happi_score(df, index_df)"
   ]
  },
  {
   "attachments": {},
   "cell_type": "markdown",
   "metadata": {},
   "source": [
    "### Happiness socre distribution for every tweet"
   ]
  },
  {
   "attachments": {},
   "cell_type": "markdown",
   "metadata": {},
   "source": [
    "Eliminate neutral words (average happiness: 4.5 - 5.5)"
   ]
  },
  {
   "cell_type": "code",
   "execution_count": 8,
   "metadata": {},
   "outputs": [
    {
     "data": {
      "image/png": "[encoded data removed]",
      "text/plain": [
       "<Figure size 432x288 with 1 Axes>"
      ]
     },
     "metadata": {
      "needs_background": "light"
     },
     "output_type": "display_data"
    }
   ],
   "source": [
    "# create an empty list to store the scores\n",
    "scores = []\n",
    "\n",
    "# loop over the rows of the DataFrame\n",
    "for index,row in df.iterrows():\n",
    "    # calculate the happiness score for the row\n",
    "    text = row['tokens']\n",
    "    df_text = pd.DataFrame({'tokens': [text]})\n",
    "    score = happi_score(df_text, index_df)\n",
    "    # add the score to the list\n",
    "    scores.append(score)\n",
    "\n",
    "# create a histogram of the scores\n",
    "plt.hist(scores, bins=20)\n",
    "plt.xlabel('Happiness Score')\n",
    "plt.ylabel('Frequency')\n",
    "plt.title('Distribution of Happiness Scores')\n",
    "plt.show()"
   ]
  },
  {
   "attachments": {},
   "cell_type": "markdown",
   "metadata": {},
   "source": [
    "Eliminate neutral words (average happiness: 4 - 6)"
   ]
  },
  {
   "cell_type": "code",
   "execution_count": 9,
   "metadata": {},
   "outputs": [
    {
     "data": {
      "image/png": "[encoded data removed]",
      "text/plain": [
       "<Figure size 432x288 with 1 Axes>"
      ]
     },
     "metadata": {
      "needs_background": "light"
     },
     "output_type": "display_data"
    }
   ],
   "source": [
    "# create an empty list to store the scores\n",
    "scores = []\n",
    "\n",
    "# loop over the rows of the DataFrame\n",
    "for index,row in df.iterrows():\n",
    "    # calculate the happiness score for the row\n",
    "    text = row['tokens']\n",
    "    df_text = pd.DataFrame({'tokens': [text]})\n",
    "    score = happi_score(df_text, index_df1)\n",
    "    # add the score to the list\n",
    "    scores.append(score)\n",
    "\n",
    "# create a histogram of the scores\n",
    "plt.hist(scores, bins=20)\n",
    "plt.xlabel('Happiness Score')\n",
    "plt.ylabel('Frequency')\n",
    "plt.title('Distribution of Happiness Scores')\n",
    "plt.show()"
   ]
  },
  {
   "attachments": {},
   "cell_type": "markdown",
   "metadata": {},
   "source": [
    "We will eliminate neutral words (average happiness: 4.5 - 5.5), as the histogram is more normal"
   ]
  },
  {
   "attachments": {},
   "cell_type": "markdown",
   "metadata": {},
   "source": [
    "### Sentiment score distribution"
   ]
  },
  {
   "cell_type": "code",
   "execution_count": 10,
   "metadata": {},
   "outputs": [
    {
     "data": {
      "image/png": "[encoded data removed]",
      "text/plain": [
       "<Figure size 432x288 with 1 Axes>"
      ]
     },
     "metadata": {
      "needs_background": "light"
     },
     "output_type": "display_data"
    }
   ],
   "source": [
    "sentiment_lst = df['sentiment']\n",
    "plt.hist(sentiment_lst, bins=20)\n",
    "plt.xlabel('Sentiment Score')\n",
    "plt.ylabel('Frequency')\n",
    "plt.title('Distribution of Sentiment Scores')\n",
    "plt.show()"
   ]
  },
  {
   "cell_type": "code",
   "execution_count": 60,
   "metadata": {},
   "outputs": [
    {
     "data": {
      "text/plain": [
       "4.068972944547701"
      ]
     },
     "execution_count": 60,
     "metadata": {},
     "output_type": "execute_result"
    }
   ],
   "source": [
    "df['normal_sentiment'] = df['sentiment'] + 4 # make all score positive\n",
    "df['normal_sentiment'].mean()"
   ]
  },
  {
   "attachments": {},
   "cell_type": "markdown",
   "metadata": {},
   "source": []
  },
  {
   "cell_type": "code",
   "execution_count": 62,
   "metadata": {},
   "outputs": [
    {
     "data": {
      "text/plain": [
       "Text(25, 4.0689, 'AU happiness average (4.0689)')"
      ]
     },
     "execution_count": 62,
     "metadata": {},
     "output_type": "execute_result"
    },
    {
     "data": {
      "image/png": "[encoded data removed]",
      "text/plain": [
       "<Figure size 432x288 with 1 Axes>"
      ]
     },
     "metadata": {
      "needs_background": "light"
     },
     "output_type": "display_data"
    }
   ],
   "source": [
    "df_grouped = df.groupby('hour')['normal_sentiment'].mean().reset_index()\n",
    "df_grouped\n",
    "plt.ylim(3.8,4.3)\n",
    "plt.bar(df_grouped.hour, df_grouped.normal_sentiment)\n",
    "plt.xlabel('Hour')\n",
    "plt.ylabel('Sentiment Score')\n",
    "plt.title('Sentiment Scores by Hour')\n",
    "au_avg = 4.0689\n",
    "plt.axhline(y=au_avg, color='blue', linestyle='--')\n",
    "plt.text(25, 4.0689, 'AU happiness average (4.0689)')"
   ]
  },
  {
   "attachments": {},
   "cell_type": "markdown",
   "metadata": {},
   "source": [
    "### Happiness socre by hour\n",
    "Early morning: 6-9 a.m.\n",
    "\n",
    "Mid-morning: 8-10 a.m.\n",
    "\n",
    "Late morning: 9 a.m.-noon\n",
    "\n",
    "Afternoon: noon-6 p.m.\n",
    "\n",
    "Early afternoon: noon-3 p.m.\n",
    "\n",
    "Mid-afternoon: 2-4 p.m.\n",
    "\n",
    "Late- afternoon: 3-6 p.m.\n",
    "\n",
    "Evening: 6-9 p.m.\n",
    "\n",
    "Late evening: 9-midnight\n",
    "\n",
    "Late at night: Midnight-6 a.m."
   ]
  },
  {
   "cell_type": "code",
   "execution_count": 11,
   "metadata": {},
   "outputs": [],
   "source": [
    "happiness_scores_hour = grouped_happi_score(df, 'hour', index_df)\n"
   ]
  },
  {
   "cell_type": "code",
   "execution_count": 68,
   "metadata": {},
   "outputs": [
    {
     "data": {
      "image/png": "[encoded data removed]",
      "text/plain": [
       "<Figure size 432x288 with 1 Axes>"
      ]
     },
     "metadata": {
      "needs_background": "light"
     },
     "output_type": "display_data"
    }
   ],
   "source": [
    "import matplotlib.pyplot as plt\n",
    "\n",
    "# define the time ranges and their corresponding colors\n",
    "time_ranges = {\n",
    "    'Morning': (6, 12),\n",
    "    'Afternoon': (12, 18),\n",
    "    'Evening': (18, 24),\n",
    "    'Late night': (0, 6)\n",
    "}\n",
    "\n",
    "color_map = {\n",
    "    'Morning': 'red',\n",
    "    'Afternoon': 'green',\n",
    "    'Evening': 'blue',\n",
    "    'Late night': 'black'\n",
    "}\n",
    "\n",
    "# generate some random data\n",
    "import random\n",
    "happiness_scores_hour = {i: random.uniform(0.4, 0.8) for i in range(24)}\n",
    "\n",
    "# plot the bar chart\n",
    "fig, ax = plt.subplots()\n",
    "for time_range, (start_hour, end_hour) in time_ranges.items():\n",
    "    filtered_scores = {hour: score for hour, score in happiness_scores_hour.items()\n",
    "                       if start_hour <= hour < end_hour}\n",
    "    ax.bar(filtered_scores.keys(), filtered_scores.values(), color=color_map[time_range],\n",
    "           label=time_range, alpha=0.7)\n",
    "\n",
    "# add the average line\n",
    "au_avg = 0.6191\n",
    "ax.axhline(y=au_avg, color='blue', linestyle='--')\n",
    "ax.text(25, 0.6191, 'AU happiness average (0.6191)')\n",
    "\n",
    "# set the axis labels and title\n",
    "ax.set_xlabel('Hour')\n",
    "ax.set_ylabel('Happiness Score')\n",
    "ax.set_title('Happiness Scores by Hour')\n",
    "\n",
    "# add a legend\n",
    "handles, labels = ax.get_legend_handles_labels()\n",
    "fig.legend(handles, labels, loc='right')\n",
    "\n",
    "plt.show()\n"
   ]
  },
  {
   "attachments": {},
   "cell_type": "markdown",
   "metadata": {},
   "source": [
    "Discovery the \"Happy Hour\""
   ]
  },
  {
   "cell_type": "code",
   "execution_count": 66,
   "metadata": {},
   "outputs": [
    {
     "data": {
      "image/png": "[encoded data removed]",
      "text/plain": [
       "<Figure size 864x432 with 1 Axes>"
      ]
     },
     "metadata": {
      "needs_background": "light"
     },
     "output_type": "display_data"
    }
   ],
   "source": [
    "fig, ax = plt.subplots(figsize=(12,6))\n",
    "happiness_scores_hour = {str(k): v for k, v in happiness_scores_hour.items()}\n",
    "sorted_scores = dict(sorted(happiness_scores_hour.items(), key=lambda x: x[1], reverse=True))\n",
    "\n",
    "ax.bar(sorted_scores.keys(), sorted_scores.values())\n",
    "\n",
    "ax.set_xlabel('hour')\n",
    "ax.set_ylabel('Happiness Score')\n",
    "ax.set_title('Happiness Scores by hour')\n",
    "plt.ylim(0.4,0.8)  # set x-axis limits\n",
    "\n",
    "# draw a horizontal line at y=5.783068021734755\n",
    "au_avg = 0.6191\n",
    "ax.axhline(y=au_avg, color='blue', linestyle='--')\n",
    "plt.text(25, 0.6191, 'AU happiness average (0.6191)')\n",
    "\n",
    "plt.show()"
   ]
  },
  {
   "cell_type": "code",
   "execution_count": 14,
   "metadata": {},
   "outputs": [
    {
     "data": {
      "image/png": "[encoded data removed]",
      "text/plain": [
       "<Figure size 432x288 with 1 Axes>"
      ]
     },
     "metadata": {
      "needs_background": "light"
     },
     "output_type": "display_data"
    }
   ],
   "source": [
    "import matplotlib.pyplot as plt\n",
    "\n",
    "# assuming the dictionary of scores is called `score_dict`\n",
    "plt.hist(happiness_scores_hour.values(), bins=20, range=(0.4, 0.8))\n",
    "\n",
    "plt.xlabel('Happiness Score')\n",
    "plt.ylabel('Frequency')\n",
    "plt.title('Distribution of Happiness Scores by Hour')\n",
    "\n",
    "plt.show()"
   ]
  },
  {
   "attachments": {},
   "cell_type": "markdown",
   "metadata": {},
   "source": [
    "### Happiness socre by day of week"
   ]
  },
  {
   "cell_type": "code",
   "execution_count": 15,
   "metadata": {},
   "outputs": [
    {
     "data": {
      "text/html": [
       "<div>\n",
       "<style scoped>\n",
       "    .dataframe tbody tr th:only-of-type {\n",
       "        vertical-align: middle;\n",
       "    }\n",
       "\n",
       "    .dataframe tbody tr th {\n",
       "        vertical-align: top;\n",
       "    }\n",
       "\n",
       "    .dataframe thead th {\n",
       "        text-align: right;\n",
       "    }\n",
       "</style>\n",
       "<table border=\"1\" class=\"dataframe\">\n",
       "  <thead>\n",
       "    <tr style=\"text-align: right;\">\n",
       "      <th></th>\n",
       "      <th>dof</th>\n",
       "      <th>tokens</th>\n",
       "    </tr>\n",
       "  </thead>\n",
       "  <tbody>\n",
       "    <tr>\n",
       "      <th>0</th>\n",
       "      <td>3</td>\n",
       "      <td>[swallows, yup, zealots, work, , , sinuses, ar...</td>\n",
       "    </tr>\n",
       "  </tbody>\n",
       "</table>\n",
       "</div>"
      ],
      "text/plain": [
       "   dof                                             tokens\n",
       "0    3  [swallows, yup, zealots, work, , , sinuses, ar..."
      ]
     },
     "execution_count": 15,
     "metadata": {},
     "output_type": "execute_result"
    }
   ],
   "source": [
    "happiness_scores_hour = grouped_happi_score(df, 'dow', index_df)\n",
    "\n",
    "# seems like we only have Wednesday data from sample. However, the analysis approach is similar"
   ]
  },
  {
   "attachments": {},
   "cell_type": "markdown",
   "metadata": {},
   "source": [
    "## Senario 2\n",
    "* The happiness score of Australia (as a baseline)\n",
    "* The happiness score of states\n",
    "* The happiness score of gcc & rural area\n",
    "* The happiness socre of sal places\n",
    "\n",
    "**Algorithm in Assignment1 was used to attach sal code (not perfect, just for demo)**"
   ]
  },
  {
   "cell_type": "code",
   "execution_count": 16,
   "metadata": {},
   "outputs": [],
   "source": [
    "df2 = df \n"
   ]
  },
  {
   "cell_type": "code",
   "execution_count": 17,
   "metadata": {},
   "outputs": [],
   "source": [
    "twi_col = ['state_t', 'city_t']\n",
    "df_col =['tokens', 'full_name', 'dof', 'year', 'month', 'date', 'hour', 'sentiment',\n",
    "       'text']\n",
    "\n",
    "def preprocess_twit(twit):\n",
    "    # split full_name into city and state columns, and convert city to lowercase\n",
    "    twit['city_t'] = twit['full_name'].str.split(', ').str[0].str.lower()\n",
    "    twit['state'] = twit['full_name'].str.split(', ').str[1].str.lower()\n",
    "\n",
    "    # clean city name by dropping suffix and part after \" - \"\n",
    "    twit['city_t'] = twit['city_t'].str.split(' - ').str[0].str.lower() # if there is “ - ” in city, only keep the part before “ - ”\n",
    "    twit['city_t'] = twit['city_t'].str.split('(').str[0].str.strip() # for city, drop state suffix\n",
    "\n",
    "    # clean state name by dropping prefix and keeping state suffix\n",
    "    twit['state'] = twit['state'].str.split('(').str[-1].str.strip() # for state, only keep state suffix\n",
    "    twit['state'] = twit['state'].str.replace(r')', '', regex=False)\n",
    "    twit = twit[['city_t','state']+df_col]\n",
    "    state_abbrev = {'victoria': 'vic.', 'new south wales': 'nsw', 'queensland': 'qld', 'western australia': 'wa',\n",
    "                  'south australia': 'sa', 'tasmania': 'tas.', 'northern territory': 'nt', 'australian capital territory': 'act'}\n",
    "    twit['state_t'] = twit['state'].replace(state_abbrev)\n",
    "\n",
    "    # keep only author_id, city_t, and state_t columns, and remove obvious outliers \n",
    "    # (eg. victoria, australia; austrlia etc.)\n",
    "    obvi_outlier = ['australia', 'new south wales', 'victoria', 'queensland','western australia','south australia','northern territory','australian capital territory','tasmania']\n",
    "    twit = twit[~twit.city_t.isin(obvi_outlier)] # drop obvi outliers \n",
    "    twit = twit[~twit.state_t.isin(['ontario', 'denver'])]\n",
    "    twit = twit[['city_t','state_t']+df_col]\n",
    "    return twit\n",
    "\n",
    "# Preprocess sal.json\n",
    "def preprocess_sal():\n",
    "    # load raw data from JSON file and transpose\n",
    "    sal = pd.read_json(\"../data/raw/sal.json\")\n",
    "    sal = sal.transpose()\n",
    "\n",
    "    # reset index and rename columns\n",
    "    sal.reset_index(inplace=True)\n",
    "    sal.rename(columns={\"index\": \"name\"}, inplace=True)\n",
    "\n",
    "    # extract city and state information\n",
    "    sal['city'] = sal['name'].str.split(r' \\(| - |\\) ')\n",
    "    sal['city'] = sal['city'].apply(lambda x: x[1] if len(x) == 3 else x[0])\n",
    "    states_dict = {'1': 'nsw', '2': 'vic.', '3': 'qld', '4': 'sa', '5': 'wa', '6': 'tas.', '7': 'nt', '8': 'act', '9': 'oter'}\n",
    "    sal.loc[(sal['ste'].isin(states_dict.keys())), 'state'] = sal.loc[(sal['ste'].isin(states_dict.keys())), 'ste'].map(states_dict)\n",
    "\n",
    "\n",
    "    # keep only relevant columns and drop duplicates\n",
    "    sal = sal[['gcc', 'sal', 'city', 'state']]\n",
    "    sal.loc[sal[sal['sal'] == '31937'].index[0], ['city']] = 'mount archer'\n",
    "    sal.loc[sal[sal['sal'] == '32621'].index[0], ['city']] = 'spring creek'\n",
    "    sal = sal.drop_duplicates(subset=['state','city','gcc'])[['city', 'state','gcc','sal']]\n",
    "    return sal\n",
    "\n",
    "# direct match, city - city & state - state\n",
    "def match_city_state(twit, gcc):\n",
    "    # print(f'Step2: (Rank{rank}) In total {len(twit)}')\n",
    "    df1= twit.merge(gcc, how='left', left_on = ['city_t', 'state_t'], right_on = ['city', 'state'],validate = \"many_to_one\")  # match the not-unique city\n",
    "    df1_2 = df1[df1.gcc.notnull()]\n",
    "    df1_unmatch = df1[df1.gcc.isnull()][twi_col]\n",
    "    # print(f'Step2: (Rank{rank}) {len(df1_2)} ({round(len(df1_2)/len(twit)*100,2)}%) data matched')\n",
    "    return df1_2, df1_unmatch\n",
    "\n",
    "# match capital cities (city - city) | (state - city )\n",
    "def match_capital_city(df, captial_gcc):\n",
    "\n",
    "    df2 = df.merge(captial_gcc, how='left', left_on=\"state_t\", right_on=\"city\", validate = \"many_to_one\")  # state(twitter) - city(gcc) match\n",
    "    df2_2 = df2[df2.gcc.notnull()]\n",
    "    df2_unmatch = df2[df2.gcc.isnull()][twi_col]\n",
    "    df3 = df2_unmatch.merge(captial_gcc, how='left', left_on=\"city_t\", right_on=\"city\", validate = \"many_to_one\") # city(twitter) - city(gcc) match\n",
    "    df3_2 = df3[df3.gcc.notnull()]\n",
    "    # print(f'Step2: (Rank{rank}) {len(df2_2)+ len(df3_2)} ({round((len(df2_2)+len(df3_2))/len(twit)*100,2)}%) data matched')\n",
    "    return df2_2, df3_2\n",
    "\n",
    "# merge tweets with gcc\n",
    "def merge(twit, gcc, captial_gcc):\n",
    "\n",
    "    df1, df1_unmatch = match_city_state(twit, gcc)\n",
    "    df2, df3 = match_capital_city(df1_unmatch, captial_gcc)\n",
    "    final = pd.concat([df1, df2, df3], ignore_index=True)\n",
    "    # print(f'Step2: (Rank{rank}) In total {len(final)} ({round(len(final)/len(twit) *100,2)}%) data merged with gcc code')\n",
    "    return final\n"
   ]
  },
  {
   "cell_type": "code",
   "execution_count": 18,
   "metadata": {},
   "outputs": [
    {
     "name": "stderr",
     "output_type": "stream",
     "text": [
      "<ipython-input-17-27452eacda22>:20: SettingWithCopyWarning: \n",
      "A value is trying to be set on a copy of a slice from a DataFrame.\n",
      "Try using .loc[row_indexer,col_indexer] = value instead\n",
      "\n",
      "See the caveats in the documentation: https://pandas.pydata.org/pandas-docs/stable/user_guide/indexing.html#returning-a-view-versus-a-copy\n",
      "  twit['state_t'] = twit['state'].replace(state_abbrev)\n"
     ]
    }
   ],
   "source": [
    "# Process tweet data\n",
    "twit = preprocess_twit(df2)\n",
    "\n",
    "# Process gcc data\n",
    "capital_city_gcc = ['1gsyd', '2gmel', '3gbri', '4gade', '5gper', '6ghob', '7gdar', '8acte', '9oter']\n",
    "others = [\"christmas island\", \"home island\", \"jervis bay\", \"norfolk island\", \"west island\"]\n",
    "capital_cities = ['canberra', 'sydney', 'darwin', 'brisbane', 'adelaide', 'hobart', 'melbourne', 'perth'] + others\n",
    "gcc = preprocess_sal()\n",
    "# captial_gcc = gcc.loc[(gcc.city.isin(capital_cities))&(gcc.gcc.isin(capital_city_gcc)), ['gcc', 'city','state']]\n",
    "captial_gcc = gcc[gcc.gcc.isin(capital_city_gcc)][['gcc', 'city', 'state','sal']]\n",
    "captial_gcc = captial_gcc[captial_gcc.city.isin(capital_cities)][['gcc', 'city', 'state','sal']]\n",
    "\n",
    "# create merged parquet\n",
    "final = merge(twit, gcc, captial_gcc)\n"
   ]
  },
  {
   "cell_type": "code",
   "execution_count": 19,
   "metadata": {},
   "outputs": [
    {
     "data": {
      "text/html": [
       "<div>\n",
       "<style scoped>\n",
       "    .dataframe tbody tr th:only-of-type {\n",
       "        vertical-align: middle;\n",
       "    }\n",
       "\n",
       "    .dataframe tbody tr th {\n",
       "        vertical-align: top;\n",
       "    }\n",
       "\n",
       "    .dataframe thead th {\n",
       "        text-align: right;\n",
       "    }\n",
       "</style>\n",
       "<table border=\"1\" class=\"dataframe\">\n",
       "  <thead>\n",
       "    <tr style=\"text-align: right;\">\n",
       "      <th></th>\n",
       "      <th>city_t</th>\n",
       "      <th>state_t</th>\n",
       "      <th>tokens</th>\n",
       "      <th>full_name</th>\n",
       "      <th>dof</th>\n",
       "      <th>year</th>\n",
       "      <th>month</th>\n",
       "      <th>date</th>\n",
       "      <th>hour</th>\n",
       "      <th>sentiment</th>\n",
       "      <th>text</th>\n",
       "      <th>city</th>\n",
       "      <th>state</th>\n",
       "      <th>gcc</th>\n",
       "      <th>sal</th>\n",
       "    </tr>\n",
       "  </thead>\n",
       "  <tbody>\n",
       "    <tr>\n",
       "      <th>0</th>\n",
       "      <td>sydney</td>\n",
       "      <td>nsw</td>\n",
       "      <td>[swallows]</td>\n",
       "      <td>Sydney, New South Wales</td>\n",
       "      <td>3.0</td>\n",
       "      <td>2022.0</td>\n",
       "      <td>2.0</td>\n",
       "      <td>10.0</td>\n",
       "      <td>4.0</td>\n",
       "      <td>0.000000</td>\n",
       "      <td>@Felon82 He swallows</td>\n",
       "      <td>sydney</td>\n",
       "      <td>nsw</td>\n",
       "      <td>1gsyd</td>\n",
       "      <td>11215</td>\n",
       "    </tr>\n",
       "    <tr>\n",
       "      <th>1</th>\n",
       "      <td>sydney</td>\n",
       "      <td>nsw</td>\n",
       "      <td>[yup, zealots, work]</td>\n",
       "      <td>Sydney, New South Wales</td>\n",
       "      <td>3.0</td>\n",
       "      <td>2022.0</td>\n",
       "      <td>2.0</td>\n",
       "      <td>10.0</td>\n",
       "      <td>5.0</td>\n",
       "      <td>-0.400000</td>\n",
       "      <td>@marquelawyers Yup! Zealots at work.</td>\n",
       "      <td>sydney</td>\n",
       "      <td>nsw</td>\n",
       "      <td>1gsyd</td>\n",
       "      <td>11215</td>\n",
       "    </tr>\n",
       "    <tr>\n",
       "      <th>2</th>\n",
       "      <td>darwin</td>\n",
       "      <td>nt</td>\n",
       "      <td>[]</td>\n",
       "      <td>Darwin, Northern Territory</td>\n",
       "      <td>3.0</td>\n",
       "      <td>2022.0</td>\n",
       "      <td>2.0</td>\n",
       "      <td>10.0</td>\n",
       "      <td>0.0</td>\n",
       "      <td>0.000000</td>\n",
       "      <td>@marquelawyers https://t.co/BFqOUeu7Am</td>\n",
       "      <td>darwin</td>\n",
       "      <td>nt</td>\n",
       "      <td>7gdar</td>\n",
       "      <td>70073</td>\n",
       "    </tr>\n",
       "    <tr>\n",
       "      <th>3</th>\n",
       "      <td>darwin</td>\n",
       "      <td>nt</td>\n",
       "      <td>[]</td>\n",
       "      <td>Darwin, Northern Territory</td>\n",
       "      <td>3.0</td>\n",
       "      <td>2022.0</td>\n",
       "      <td>2.0</td>\n",
       "      <td>10.0</td>\n",
       "      <td>0.0</td>\n",
       "      <td>0.000000</td>\n",
       "      <td>@MoarToast https://t.co/aYJHMrca17</td>\n",
       "      <td>darwin</td>\n",
       "      <td>nt</td>\n",
       "      <td>7gdar</td>\n",
       "      <td>70073</td>\n",
       "    </tr>\n",
       "    <tr>\n",
       "      <th>4</th>\n",
       "      <td>nowra</td>\n",
       "      <td>nsw</td>\n",
       "      <td>[sinuses, are, close, upper, teeth, can, have,...</td>\n",
       "      <td>Nowra - Bomaderry, New South Wales</td>\n",
       "      <td>3.0</td>\n",
       "      <td>2022.0</td>\n",
       "      <td>2.0</td>\n",
       "      <td>10.0</td>\n",
       "      <td>0.0</td>\n",
       "      <td>-0.090909</td>\n",
       "      <td>@ArtistAffame My sinuses are so close to my up...</td>\n",
       "      <td>nowra</td>\n",
       "      <td>nsw</td>\n",
       "      <td>1rnsw</td>\n",
       "      <td>13039</td>\n",
       "    </tr>\n",
       "  </tbody>\n",
       "</table>\n",
       "</div>"
      ],
      "text/plain": [
       "   city_t state_t                                             tokens  \\\n",
       "0  sydney     nsw                                         [swallows]   \n",
       "1  sydney     nsw                               [yup, zealots, work]   \n",
       "2  darwin      nt                                                 []   \n",
       "3  darwin      nt                                                 []   \n",
       "4   nowra     nsw  [sinuses, are, close, upper, teeth, can, have,...   \n",
       "\n",
       "                            full_name  dof    year  month  date  hour  \\\n",
       "0             Sydney, New South Wales  3.0  2022.0    2.0  10.0   4.0   \n",
       "1             Sydney, New South Wales  3.0  2022.0    2.0  10.0   5.0   \n",
       "2          Darwin, Northern Territory  3.0  2022.0    2.0  10.0   0.0   \n",
       "3          Darwin, Northern Territory  3.0  2022.0    2.0  10.0   0.0   \n",
       "4  Nowra - Bomaderry, New South Wales  3.0  2022.0    2.0  10.0   0.0   \n",
       "\n",
       "   sentiment                                               text    city state  \\\n",
       "0   0.000000                               @Felon82 He swallows  sydney   nsw   \n",
       "1  -0.400000               @marquelawyers Yup! Zealots at work.  sydney   nsw   \n",
       "2   0.000000             @marquelawyers https://t.co/BFqOUeu7Am  darwin    nt   \n",
       "3   0.000000                 @MoarToast https://t.co/aYJHMrca17  darwin    nt   \n",
       "4  -0.090909  @ArtistAffame My sinuses are so close to my up...   nowra   nsw   \n",
       "\n",
       "     gcc    sal  \n",
       "0  1gsyd  11215  \n",
       "1  1gsyd  11215  \n",
       "2  7gdar  70073  \n",
       "3  7gdar  70073  \n",
       "4  1rnsw  13039  "
      ]
     },
     "execution_count": 19,
     "metadata": {},
     "output_type": "execute_result"
    }
   ],
   "source": [
    "final.head()"
   ]
  },
  {
   "attachments": {},
   "cell_type": "markdown",
   "metadata": {},
   "source": [
    "### Happiness socre of AU"
   ]
  },
  {
   "cell_type": "code",
   "execution_count": 20,
   "metadata": {},
   "outputs": [
    {
     "data": {
      "text/plain": [
       "0.6191412052781935"
      ]
     },
     "execution_count": 20,
     "metadata": {},
     "output_type": "execute_result"
    }
   ],
   "source": [
    "happi_score(df, index_df)"
   ]
  },
  {
   "attachments": {},
   "cell_type": "markdown",
   "metadata": {},
   "source": [
    "### Happiness socre by State"
   ]
  },
  {
   "cell_type": "code",
   "execution_count": 22,
   "metadata": {},
   "outputs": [],
   "source": [
    "state_happiness_scores = grouped_happi_score(final, 'state', index_df)\n",
    "sorted_scores = dict(sorted(state_happiness_scores.items(), key=lambda x: x[1], reverse=True))"
   ]
  },
  {
   "cell_type": "code",
   "execution_count": 23,
   "metadata": {},
   "outputs": [
    {
     "data": {
      "image/png": "[encoded data removed]",
      "text/plain": [
       "<Figure size 864x432 with 1 Axes>"
      ]
     },
     "metadata": {
      "needs_background": "light"
     },
     "output_type": "display_data"
    }
   ],
   "source": [
    "fig, ax = plt.subplots(figsize=(12,6))\n",
    "plt.bar(sorted_scores.keys(), sorted_scores.values())\n",
    "\n",
    "plt.xlabel('State')\n",
    "plt.ylabel('Happiness Score')\n",
    "plt.title('Happiness Scores by State')\n",
    "plt.ylim(0.4, 0.8)  # set x-axis limits\n",
    "\n",
    "# draw a horizontal line at y=5.783068021734755\n",
    "au_avg = 0.6191\n",
    "plt.axhline(y=au_avg, color='blue', linestyle='--')\n",
    "plt.text(len(ax.containers[0]), 0.6191, 'AU happiness average (0.6191)')\n",
    "\n",
    "plt.show()"
   ]
  },
  {
   "attachments": {},
   "cell_type": "markdown",
   "metadata": {},
   "source": [
    "### Happiness socre by GCC"
   ]
  },
  {
   "cell_type": "code",
   "execution_count": 24,
   "metadata": {},
   "outputs": [],
   "source": [
    "gcc_happiness_scores = grouped_happi_score(final, 'gcc', index_df)"
   ]
  },
  {
   "cell_type": "code",
   "execution_count": 25,
   "metadata": {},
   "outputs": [
    {
     "data": {
      "image/png": "[encoded data removed]",
      "text/plain": [
       "<Figure size 864x432 with 1 Axes>"
      ]
     },
     "metadata": {
      "needs_background": "light"
     },
     "output_type": "display_data"
    }
   ],
   "source": [
    "fig, ax = plt.subplots(figsize=(12,6))\n",
    "sorted_scores = dict(sorted(gcc_happiness_scores.items(), key=lambda x: x[1], reverse=True))\n",
    "\n",
    "ax.bar(sorted_scores.keys(), sorted_scores.values())\n",
    "\n",
    "ax.set_xlabel('gcc')\n",
    "ax.set_ylabel('Happiness Score')\n",
    "ax.set_title('Happiness Scores by GCC')\n",
    "ax.set_ylim(0.4, 0.8)  # set y-axis limits\n",
    "\n",
    "# draw a horizontal line at y=5.783068021734755\n",
    "au_avg = 0.6191\n",
    "ax.axhline(y=au_avg, color='blue', linestyle='--')\n",
    "plt.text(len(ax.containers[0]), 0.6191, 'AU happiness average (0.6191)')\n",
    "\n",
    "plt.show()"
   ]
  },
  {
   "attachments": {},
   "cell_type": "markdown",
   "metadata": {},
   "source": [
    "### Happiness distribution of sal"
   ]
  },
  {
   "cell_type": "code",
   "execution_count": 26,
   "metadata": {},
   "outputs": [],
   "source": [
    "sal_happiness_scores = grouped_happi_score(final, 'sal', index_df)"
   ]
  },
  {
   "cell_type": "code",
   "execution_count": 27,
   "metadata": {},
   "outputs": [],
   "source": [
    "sal_happiness_scores\n",
    "df_sal = pd.DataFrame(list(sal_happiness_scores.items()), columns=['sal', 'score'])"
   ]
  },
  {
   "cell_type": "code",
   "execution_count": 29,
   "metadata": {},
   "outputs": [
    {
     "data": {
      "image/png": "[encoded data removed]",
      "text/plain": [
       "<Figure size 432x288 with 1 Axes>"
      ]
     },
     "metadata": {
      "needs_background": "light"
     },
     "output_type": "display_data"
    }
   ],
   "source": [
    "values =list(sal_happiness_scores.values())\n",
    "plt.hist(values, bins=60, range=(0,1))\n",
    "plt.xlabel('Happiness Score')\n",
    "plt.ylabel('Frequency')\n",
    "plt.title('Histogram of Happiness Scores')\n",
    "plt.show()"
   ]
  },
  {
   "attachments": {},
   "cell_type": "markdown",
   "metadata": {},
   "source": [
    "## Geo Analysis\n",
    "### Geo visual of Happiness Score of GCC\n"
   ]
  },
  {
   "cell_type": "code",
   "execution_count": 38,
   "metadata": {},
   "outputs": [],
   "source": [
    "# get happinesss score for each gcc\n",
    "gcc_happiness_scores = grouped_happi_score(final, 'gcc', index_df)\n",
    "df_gcc = pd.DataFrame(list(gcc_happiness_scores.items()), columns=['gcc', 'score'])\n",
    "df_gcc['gcc'] = df_gcc['gcc'].str.upper()\n"
   ]
  },
  {
   "cell_type": "code",
   "execution_count": 39,
   "metadata": {},
   "outputs": [],
   "source": [
    "# read geo index data set \n",
    "gdf = gpd.read_file(\"../data/raw/GCCSA_2021_AUST_SHP_GDA2020/GCCSA_2021_AUST_GDA2020.shp\")\n",
    "geoboundary = gdf[['STE_CODE21','GCC_CODE21', 'geometry']].dropna()\n",
    "geoJSON = geoboundary.to_json()"
   ]
  },
  {
   "cell_type": "code",
   "execution_count": null,
   "metadata": {},
   "outputs": [],
   "source": [
    "# merge happiness socre dataset with geo index data set \n",
    "gdf2 = pd.merge(gdf, df_gcc, how='left', left_on='GCC_CODE21', right_on = 'gcc')\n",
    "\n",
    "m = folium.Map(location=[-37.81, 144.96], tiles=\"Stamen Terrain\", zoom_start=10, color='white')\n",
    "svg_style = '<style>svg {background-color: rgb(255, 255, 255,0.5);}</style>'\n",
    "m.get_root().header.add_child(folium.Element(svg_style))\n",
    "\n",
    "c = folium.Choropleth(\n",
    "    geo_data=geoJSON,\n",
    "    name='choropleth',\n",
    "    data=gdf2, \n",
    "    columns=['gcc','score'],\n",
    "    key_on='properties.GCC_CODE21', \n",
    "    fill_color='Paired', \n",
    "    nan_fill_color='black',\n",
    "    legend_name='happiness score per gcc area',\n",
    ").add_to(m)\n",
    "\n",
    "#m.save('../../plots/population_density_sa2.html')\n",
    "m"
   ]
  },
  {
   "attachments": {},
   "cell_type": "markdown",
   "metadata": {},
   "source": [
    "### Geo Visual of Happiness Score of sal"
   ]
  },
  {
   "cell_type": "code",
   "execution_count": 41,
   "metadata": {},
   "outputs": [],
   "source": [
    "# get happiness score for each sal\n",
    "sal_happiness_scores = grouped_happi_score(final, 'sal', index_df)\n",
    "df_sal = pd.DataFrame(list(sal_happiness_scores.items()), columns=['sal', 'score'])"
   ]
  },
  {
   "cell_type": "code",
   "execution_count": null,
   "metadata": {},
   "outputs": [],
   "source": [
    "gdf = gpd.read_file(\"../data/raw/SAL_2021_AUST_GDA2020_SHP/SAL_2021_AUST_GDA2020.shp\")\n",
    "geoboundary = gdf[['SAL_CODE21','STE_CODE21', 'STE_NAME21','geometry']].dropna()\n",
    "geoJSON = geoboundary.to_json()"
   ]
  },
  {
   "cell_type": "code",
   "execution_count": null,
   "metadata": {},
   "outputs": [],
   "source": [
    "# merge happiness socre dataset with geo index\n",
    "gdf = pd.merge(geoboundary, df_sal, how='right', left_on='SAL_CODE21', right_on = 'sal')"
   ]
  },
  {
   "cell_type": "code",
   "execution_count": null,
   "metadata": {},
   "outputs": [],
   "source": [
    "m = folium.Map(location=[-37.81, 144.96], tiles=\"Stamen Terrain\", zoom_start=10, color='white')\n",
    "svg_style = '<style>svg {background-color: rgb(255, 255, 255,0.5);}</style>'\n",
    "m.get_root().header.add_child(folium.Element(svg_style))\n",
    "\n",
    "c = folium.Choropleth(\n",
    "    geo_data=geoJSON,\n",
    "    name='choropleth',\n",
    "    data=gdf, \n",
    "    columns=['sal','score'],\n",
    "    key_on='properties.SAL_CODE21', \n",
    "    fill_color='Paired', \n",
    "    nan_fill_color='black',\n",
    "    legend_name='happiness score per sal area',\n",
    ").add_to(m)\n",
    "\n",
    "#m.save('../../plots/population_density_sa2.html')\n",
    "#m\n",
    " \n",
    "# uncomment #m to see the map. It is a very large graph, plz clear the output after viewing"
   ]
  },
  {
   "attachments": {},
   "cell_type": "markdown",
   "metadata": {},
   "source": [
    "As we can see, the granularity of GCC is too big (refer to sample_geo_visual), whilst the granularity of SAL is too small (or maybe because the sample size is too small). Therefore, maybe we should consider using other granularities (such as SA2)."
   ]
  }
 ],
 "metadata": {
  "kernelspec": {
   "display_name": "base",
   "language": "python",
   "name": "python3"
  },
  "language_info": {
   "codemirror_mode": {
    "name": "ipython",
    "version": 3
   },
   "file_extension": ".py",
   "mimetype": "text/x-python",
   "name": "python",
   "nbconvert_exporter": "python",
   "pygments_lexer": "ipython3",
   "version": "3.8.5"
  },
  "orig_nbformat": 4
 },
 "nbformat": 4,
 "nbformat_minor": 2
}
