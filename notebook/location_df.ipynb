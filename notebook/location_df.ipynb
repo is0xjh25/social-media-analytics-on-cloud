{
 "cells": [
  {
   "attachments": {},
   "cell_type": "markdown",
   "metadata": {},
   "source": [
    "# Update location information\n",
    "### Twitter API key list\n",
    "#### - Consumer Keys\n",
    "- API Key & API Secret\n",
    "#### - Authentication Tokens\n",
    "- Bearer Token\n",
    "- Access Token & Access Secret"
   ]
  },
  {
   "attachments": {},
   "cell_type": "markdown",
   "metadata": {},
   "source": [
    "Read .env file to read API key (Create your own .env file and write down the API keys)"
   ]
  },
  {
   "cell_type": "code",
   "execution_count": 4,
   "metadata": {},
   "outputs": [],
   "source": [
    "from dotenv import load_dotenv\n",
    "import os\n",
    "load_dotenv()\n",
    "BEARER_TOKEN = os.environ.get(\"BEARER_TOKEN\")\n",
    "API_KEY = os.environ.get(\"API_KEY\")\n",
    "API_SECRET = os.environ.get(\"API_SECRET\")\n",
    "ACCESS_TOKEN = os.environ.get(\"ACCESS_TOKEN\")\n",
    "ACCESS_TOKEN_SECRET = os.environ.get(\"ACCESS_TOKEN_SECRET\")"
   ]
  },
  {
   "attachments": {},
   "cell_type": "markdown",
   "metadata": {},
   "source": [
    "Request location information regarding place_id"
   ]
  },
  {
   "cell_type": "code",
   "execution_count": 5,
   "metadata": {},
   "outputs": [],
   "source": [
    "import requests\n",
    "\n",
    "def get_data(BEARER_TOKEN, url):\n",
    "    headers = {'Authorization': \"Bearer \" + str(BEARER_TOKEN) }\n",
    "    response = requests.get(url, headers=headers)\n",
    "    response_data = response.json()\n",
    "    return response_data"
   ]
  },
  {
   "attachments": {},
   "cell_type": "markdown",
   "metadata": {},
   "source": [
    "Example of requesting information"
   ]
  },
  {
   "cell_type": "code",
   "execution_count": 6,
   "metadata": {},
   "outputs": [
    {
     "data": {
      "text/plain": [
       "{'id': '0073b76548e5984f',\n",
       " 'name': 'Sydney',\n",
       " 'full_name': 'Sydney, New South Wales',\n",
       " 'country': 'Australia',\n",
       " 'country_code': 'AU',\n",
       " 'url': 'https://api.twitter.com/1.1/geo/id/0073b76548e5984f.json',\n",
       " 'place_type': 'city',\n",
       " 'attributes': {'geotagCount': '2637'},\n",
       " 'bounding_box': {'type': 'Polygon',\n",
       "  'coordinates': [[[150.520928608, -34.1183470085],\n",
       "    [150.520928608, -33.578140996],\n",
       "    [151.343020992, -33.578140996],\n",
       "    [151.343020992, -34.1183470085],\n",
       "    [150.520928608, -34.1183470085]]]},\n",
       " 'centroid': [150.96870742118324, -33.8482430125],\n",
       " 'contained_within': [{'id': '265b933184e2b88a',\n",
       "   'name': 'New South Wales',\n",
       "   'full_name': 'New South Wales, Australia',\n",
       "   'country': 'Australia',\n",
       "   'country_code': 'AU',\n",
       "   'url': 'https://api.twitter.com/1.1/geo/id/265b933184e2b88a.json',\n",
       "   'place_type': 'admin',\n",
       "   'attributes': {},\n",
       "   'bounding_box': {'type': 'Polygon',\n",
       "    'coordinates': [[[140.999474522999, -37.5050599967256],\n",
       "      [140.999474522999, -28.1570199141289],\n",
       "      [159.109219005872, -28.1570199141289],\n",
       "      [159.109219005872, -37.5050599967256],\n",
       "      [140.999474522999, -37.5050599967256]]]},\n",
       "   'centroid': [146.3463422232526, -32.831042971537]}],\n",
       " 'polylines': [],\n",
       " 'geometry': None}"
      ]
     },
     "execution_count": 6,
     "metadata": {},
     "output_type": "execute_result"
    }
   ],
   "source": [
    "place_id = \"0073b76548e5984f\"\n",
    "get_data(BEARER_TOKEN, f\"https://api.twitter.com/1.1/geo/id/{place_id}.json\")"
   ]
  },
  {
   "cell_type": "code",
   "execution_count": 26,
   "metadata": {},
   "outputs": [],
   "source": [
    "import pandas as pd\n",
    "import os\n",
    "\n",
    "def update_location_info(place_id):\n",
    "    path = \"../data/curated/place_id.csv\"\n",
    "    if os.path.exists(path):\n",
    "        df = pd.read_csv(path, index_col=0)\n",
    "        if place_id not in df.index:\n",
    "            tmp = get_data(BEARER_TOKEN, f\"https://api.twitter.com/1.1/geo/id/{place_id}.json\")\n",
    "            add = pd.DataFrame({'full_name':[tmp[\"full_name\"]], 'country_code':[tmp['country_code']]}, index=[place_id])\n",
    "            df = pd.concat([df, add])\n",
    "    else:\n",
    "        tmp = get_data(BEARER_TOKEN, f\"https://api.twitter.com/1.1/geo/id/{place_id}.json\")\n",
    "        add = pd.DataFrame({'full_name':[tmp[\"full_name\"]], 'country_code':[tmp['country_code']]}, index=[place_id])\n",
    "        add.to_csv(path)"
   ]
  },
  {
   "cell_type": "code",
   "execution_count": 27,
   "metadata": {},
   "outputs": [],
   "source": [
    "update_location_info(place_id)"
   ]
  },
  {
   "cell_type": "code",
   "execution_count": 32,
   "metadata": {},
   "outputs": [
    {
     "data": {
      "text/html": [
       "<div>\n",
       "<style scoped>\n",
       "    .dataframe tbody tr th:only-of-type {\n",
       "        vertical-align: middle;\n",
       "    }\n",
       "\n",
       "    .dataframe tbody tr th {\n",
       "        vertical-align: top;\n",
       "    }\n",
       "\n",
       "    .dataframe thead th {\n",
       "        text-align: right;\n",
       "    }\n",
       "</style>\n",
       "<table border=\"1\" class=\"dataframe\">\n",
       "  <thead>\n",
       "    <tr style=\"text-align: right;\">\n",
       "      <th></th>\n",
       "      <th>full_name</th>\n",
       "      <th>country_code</th>\n",
       "    </tr>\n",
       "  </thead>\n",
       "  <tbody>\n",
       "    <tr>\n",
       "      <th>0073b76548e5984f</th>\n",
       "      <td>Sydney, New South Wales</td>\n",
       "      <td>AU</td>\n",
       "    </tr>\n",
       "  </tbody>\n",
       "</table>\n",
       "</div>"
      ],
      "text/plain": [
       "                                full_name country_code\n",
       "0073b76548e5984f  Sydney, New South Wales           AU"
      ]
     },
     "execution_count": 32,
     "metadata": {},
     "output_type": "execute_result"
    }
   ],
   "source": [
    "path = \"../data/curated/place_id.csv\"\n",
    "pd.read_csv(path, index_col=0)"
   ]
  }
 ],
 "metadata": {
  "kernelspec": {
   "display_name": "base",
   "language": "python",
   "name": "python3"
  },
  "language_info": {
   "codemirror_mode": {
    "name": "ipython",
    "version": 3
   },
   "file_extension": ".py",
   "mimetype": "text/x-python",
   "name": "python",
   "nbconvert_exporter": "python",
   "pygments_lexer": "ipython3",
   "version": "3.9.12"
  },
  "orig_nbformat": 4
 },
 "nbformat": 4,
 "nbformat_minor": 2
}
