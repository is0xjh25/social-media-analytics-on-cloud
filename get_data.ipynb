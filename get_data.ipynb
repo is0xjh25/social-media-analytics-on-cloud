{
 "cells": [
  {
   "cell_type": "code",
   "execution_count": 1,
   "metadata": {},
   "outputs": [],
   "source": [
    "from mastodon import Mastodon, StreamListener\n",
    "import csv, os, time, ijson, json, requests"
   ]
  },
  {
   "cell_type": "code",
   "execution_count": null,
   "metadata": {},
   "outputs": [],
   "source": [
    "# from mpi4py import MPI\n",
    "import pandas as pd\n",
    "import json, ijson, sys, os\n",
    "import post_jong\n",
    "\n",
    "\n",
    "# Mastodon\n",
    "post_jong.streaming_mastodon()\n",
    "# mastodons = post_jong.retrieve_mastodon(\"cat\")\n",
    "# post_jong.write_formatted(mastodons)\n"
   ]
  }
 ],
 "metadata": {
  "kernelspec": {
   "display_name": "base",
   "language": "python",
   "name": "python3"
  },
  "language_info": {
   "codemirror_mode": {
    "name": "ipython",
    "version": 3
   },
   "file_extension": ".py",
   "mimetype": "text/x-python",
   "name": "python",
   "nbconvert_exporter": "python",
   "pygments_lexer": "ipython3",
   "version": "3.9.12"
  },
  "orig_nbformat": 4
 },
 "nbformat": 4,
 "nbformat_minor": 2
}
