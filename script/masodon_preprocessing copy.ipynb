{
 "cells": [
  {
   "cell_type": "code",
   "execution_count": 1,
   "metadata": {},
   "outputs": [
    {
     "name": "stderr",
     "output_type": "stream",
     "text": [
      "[nltk_data] Downloading package stopwords to\n",
      "[nltk_data]     /Users/jonghopark/nltk_data...\n",
      "[nltk_data]   Package stopwords is already up-to-date!\n"
     ]
    }
   ],
   "source": [
    "import pandas as pd\n",
    "from happiness_mining import scoring as hs\n",
    "from happiness_mining import nlp"
   ]
  },
  {
   "cell_type": "code",
   "execution_count": 2,
   "metadata": {},
   "outputs": [
    {
     "name": "stderr",
     "output_type": "stream",
     "text": [
      "/Users/jonghopark/Documents/GitHub/social-media-analytics-on-cloud/script/happiness_mining/nlp.py:33: MarkupResemblesLocatorWarning: The input looks more like a filename than markup. You may want to open this file and pass the filehandle into Beautiful Soup.\n",
      "  tmp = BeautifulSoup(text, features=\"html.parser\").text\n"
     ]
    }
   ],
   "source": [
    "path = \"../data/raw/mastodon.csv\"\n",
    "df = pd.read_csv(path)\n",
    "df = df.loc[df[\"language\"]==\"en\"]\n",
    "df['token'] = df['content'].apply(nlp.create_tokens)"
   ]
  },
  {
   "cell_type": "code",
   "execution_count": 3,
   "metadata": {},
   "outputs": [],
   "source": [
    "model = hs.happiness_score()"
   ]
  },
  {
   "cell_type": "code",
   "execution_count": 4,
   "metadata": {},
   "outputs": [],
   "source": [
    "import pyarrow as pa"
   ]
  },
  {
   "cell_type": "code",
   "execution_count": 5,
   "metadata": {},
   "outputs": [],
   "source": [
    "words = []\n",
    "df[\"t_score\"] = 0\n",
    "df[\"w_score\"] = 0\n",
    "\n",
    "for i, row in df.iterrows():\n",
    "    words += row[\"token\"]\n",
    "    score = model.scoring_by_text(row[\"token\"])\n",
    "    df.loc[i, \"t_score\"] = score\n",
    "\n",
    "model.set_whole_words(words)\n",
    "for i, row in df.iterrows():\n",
    "    score = model.scoring_in_whole(row[\"token\"])\n",
    "    df.loc[i, \"w_score\"] = score"
   ]
  },
  {
   "cell_type": "code",
   "execution_count": 6,
   "metadata": {},
   "outputs": [],
   "source": [
    "import csv"
   ]
  },
  {
   "cell_type": "code",
   "execution_count": 7,
   "metadata": {},
   "outputs": [],
   "source": [
    "outpath = \"../data/curated/mastodon_processed.csv\"\n",
    "df[[\"created_at\",\"hashtags\",\"language\",\"token\",\"t_score\",\"w_score\"]].to_csv(outpath)"
   ]
  },
  {
   "cell_type": "code",
   "execution_count": 14,
   "metadata": {},
   "outputs": [],
   "source": [
    "df = pd.read_csv(outpath, index_col=0) \n",
    "df[\"hashtags\"] = df[\"hashtags\"].str.strip('][').str.split(', ')\n",
    "df[\"token\"] = df[\"token\"].str.strip('][').str.split(', ')"
   ]
  },
  {
   "cell_type": "code",
   "execution_count": null,
   "metadata": {},
   "outputs": [],
   "source": [
    "df"
   ]
  }
 ],
 "metadata": {
  "kernelspec": {
   "display_name": "base",
   "language": "python",
   "name": "python3"
  },
  "language_info": {
   "codemirror_mode": {
    "name": "ipython",
    "version": 3
   },
   "file_extension": ".py",
   "mimetype": "text/x-python",
   "name": "python",
   "nbconvert_exporter": "python",
   "pygments_lexer": "ipython3",
   "version": "3.9.12"
  },
  "orig_nbformat": 4
 },
 "nbformat": 4,
 "nbformat_minor": 2
}
