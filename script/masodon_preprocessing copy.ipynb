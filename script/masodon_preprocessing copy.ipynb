{
 "cells": [
  {
   "cell_type": "code",
   "execution_count": 1,
   "metadata": {},
   "outputs": [
    {
     "name": "stderr",
     "output_type": "stream",
     "text": [
      "[nltk_data] Downloading package stopwords to\n",
      "[nltk_data]     /Users/jonghopark/nltk_data...\n",
      "[nltk_data]   Package stopwords is already up-to-date!\n"
     ]
    }
   ],
   "source": [
    "import pandas as pd\n",
    "from happiness_mining import scoring as hs\n",
    "from happiness_mining import nlp"
   ]
  },
  {
   "cell_type": "code",
   "execution_count": 2,
   "metadata": {},
   "outputs": [
    {
     "name": "stderr",
     "output_type": "stream",
     "text": [
      "/Users/jonghopark/Documents/GitHub/social-media-analytics-on-cloud/script/happiness_mining/nlp.py:33: MarkupResemblesLocatorWarning: The input looks more like a filename than markup. You may want to open this file and pass the filehandle into Beautiful Soup.\n",
      "  tmp = BeautifulSoup(text, features=\"html.parser\").text\n"
     ]
    }
   ],
   "source": [
    "path = \"../data/raw/mastodon.csv\"\n",
    "df = pd.read_csv(path)\n",
    "df = df.loc[df[\"language\"]==\"en\"]\n",
    "df['token'] = df['content'].apply(nlp.create_tokens)"
   ]
  },
  {
   "cell_type": "code",
   "execution_count": 3,
   "metadata": {},
   "outputs": [],
   "source": [
    "model = hs.happiness_score()"
   ]
  },
  {
   "cell_type": "code",
   "execution_count": 4,
   "metadata": {},
   "outputs": [],
   "source": [
    "import pyarrow as pa"
   ]
  },
  {
   "cell_type": "code",
   "execution_count": 5,
   "metadata": {},
   "outputs": [],
   "source": [
    "words = []\n",
    "df[\"t_score\"] = 0\n",
    "df[\"w_score\"] = 0\n",
    "\n",
    "for i, row in df.iterrows():\n",
    "    words += row[\"token\"]\n",
    "    score = model.scoring_by_text(row[\"token\"])\n",
    "    df.loc[i, \"t_score\"] = score\n",
    "\n",
    "model.set_whole_words(words)\n",
    "for i, row in df.iterrows():\n",
    "    score = model.scoring_in_whole(row[\"token\"])\n",
    "    df.loc[i, \"w_score\"] = score"
   ]
  },
  {
   "cell_type": "code",
   "execution_count": 6,
   "metadata": {},
   "outputs": [],
   "source": [
    "import csv"
   ]
  },
  {
   "cell_type": "code",
   "execution_count": 7,
   "metadata": {},
   "outputs": [],
   "source": [
    "outpath = \"../data/curated/mastodon_processed.csv\"\n",
    "df[[\"created_at\",\"hashtags\",\"language\",\"token\",\"t_score\",\"w_score\"]].to_csv(outpath)"
   ]
  },
  {
   "cell_type": "code",
   "execution_count": 14,
   "metadata": {},
   "outputs": [],
   "source": [
    "df = pd.read_csv(outpath, index_col=0) \n",
    "df[\"hashtags\"] = df[\"hashtags\"].str.strip('][').str.split(', ')\n",
    "df[\"token\"] = df[\"token\"].str.strip('][').str.split(', ')"
   ]
  },
  {
   "cell_type": "code",
   "execution_count": 15,
   "metadata": {},
   "outputs": [
    {
     "data": {
      "text/html": [
       "<div>\n",
       "<style scoped>\n",
       "    .dataframe tbody tr th:only-of-type {\n",
       "        vertical-align: middle;\n",
       "    }\n",
       "\n",
       "    .dataframe tbody tr th {\n",
       "        vertical-align: top;\n",
       "    }\n",
       "\n",
       "    .dataframe thead th {\n",
       "        text-align: right;\n",
       "    }\n",
       "</style>\n",
       "<table border=\"1\" class=\"dataframe\">\n",
       "  <thead>\n",
       "    <tr style=\"text-align: right;\">\n",
       "      <th></th>\n",
       "      <th>created_at</th>\n",
       "      <th>hashtags</th>\n",
       "      <th>language</th>\n",
       "      <th>token</th>\n",
       "      <th>t_score</th>\n",
       "      <th>w_score</th>\n",
       "    </tr>\n",
       "  </thead>\n",
       "  <tbody>\n",
       "    <tr>\n",
       "      <th>0</th>\n",
       "      <td>2023-04-26 04:27:53+00:00</td>\n",
       "      <td>['nba']</td>\n",
       "      <td>en</td>\n",
       "      <td>['team', 'could', 'trick', 'cp3', 'sun', 'nba']</td>\n",
       "      <td>6.526667</td>\n",
       "      <td>5.904248</td>\n",
       "    </tr>\n",
       "    <tr>\n",
       "      <th>1</th>\n",
       "      <td>2023-04-26 04:27:51+00:00</td>\n",
       "      <td>[]</td>\n",
       "      <td>en</td>\n",
       "      <td>['piec', 'damag', 'storag', 'scratch', 'much',...</td>\n",
       "      <td>5.708889</td>\n",
       "      <td>6.130553</td>\n",
       "    </tr>\n",
       "    <tr>\n",
       "      <th>2</th>\n",
       "      <td>2023-04-26 04:27:54+00:00</td>\n",
       "      <td>['wanteddeadoralive', '9yearsofwarinukraine', ...</td>\n",
       "      <td>en</td>\n",
       "      <td>['🇺🇸🇺🇦draft', 'resolut', '‘', 'ukrainian', 'vi...</td>\n",
       "      <td>6.040000</td>\n",
       "      <td>6.584891</td>\n",
       "    </tr>\n",
       "    <tr>\n",
       "      <th>3</th>\n",
       "      <td>2023-04-26 04:27:37+00:00</td>\n",
       "      <td>['news']</td>\n",
       "      <td>en</td>\n",
       "      <td>['afl', 'regret', 'past', 'concuss', 'manag', ...</td>\n",
       "      <td>5.530000</td>\n",
       "      <td>5.694183</td>\n",
       "    </tr>\n",
       "    <tr>\n",
       "      <th>4</th>\n",
       "      <td>2023-04-26 04:27:55+00:00</td>\n",
       "      <td>[]</td>\n",
       "      <td>en</td>\n",
       "      <td>['whole', 'spiritu', 'transform', 'bring', 'us...</td>\n",
       "      <td>6.070000</td>\n",
       "      <td>6.201230</td>\n",
       "    </tr>\n",
       "    <tr>\n",
       "      <th>...</th>\n",
       "      <td>...</td>\n",
       "      <td>...</td>\n",
       "      <td>...</td>\n",
       "      <td>...</td>\n",
       "      <td>...</td>\n",
       "      <td>...</td>\n",
       "    </tr>\n",
       "    <tr>\n",
       "      <th>87271</th>\n",
       "      <td>2023-04-28 09:15:20+00:00</td>\n",
       "      <td>['auspol']</td>\n",
       "      <td>en</td>\n",
       "      <td>['auspol', 'pm', ',', 'nightclub', 'mogul', 'f...</td>\n",
       "      <td>6.284000</td>\n",
       "      <td>6.742366</td>\n",
       "    </tr>\n",
       "    <tr>\n",
       "      <th>87273</th>\n",
       "      <td>2023-04-28 09:16:03+00:00</td>\n",
       "      <td>[]</td>\n",
       "      <td>en</td>\n",
       "      <td>['franc', ',', 'citi', 'smaller', 'kirikiriroa...</td>\n",
       "      <td>4.900000</td>\n",
       "      <td>5.395647</td>\n",
       "    </tr>\n",
       "    <tr>\n",
       "      <th>87275</th>\n",
       "      <td>2023-04-28 09:16:02+00:00</td>\n",
       "      <td>['clojure', 'databases']</td>\n",
       "      <td>en</td>\n",
       "      <td>['xtdb', 'open-sourc', 'datom', 'altern', 'clo...</td>\n",
       "      <td>0.000000</td>\n",
       "      <td>0.000000</td>\n",
       "    </tr>\n",
       "    <tr>\n",
       "      <th>87277</th>\n",
       "      <td>2023-04-28 09:15:22+00:00</td>\n",
       "      <td>['database', 'analytics', 'datamanagement', 's...</td>\n",
       "      <td>en</td>\n",
       "      <td>['make', 'apach', 'kafka', 'realli', 'understa...</td>\n",
       "      <td>6.145000</td>\n",
       "      <td>6.002455</td>\n",
       "    </tr>\n",
       "    <tr>\n",
       "      <th>87278</th>\n",
       "      <td>2023-04-28 09:16:07+00:00</td>\n",
       "      <td>[]</td>\n",
       "      <td>en</td>\n",
       "      <td>['prosecutor', 'confirm', 'trial', 'begin', 'm...</td>\n",
       "      <td>4.502500</td>\n",
       "      <td>5.025054</td>\n",
       "    </tr>\n",
       "  </tbody>\n",
       "</table>\n",
       "<p>73061 rows × 6 columns</p>\n",
       "</div>"
      ],
      "text/plain": [
       "                      created_at  \\\n",
       "0      2023-04-26 04:27:53+00:00   \n",
       "1      2023-04-26 04:27:51+00:00   \n",
       "2      2023-04-26 04:27:54+00:00   \n",
       "3      2023-04-26 04:27:37+00:00   \n",
       "4      2023-04-26 04:27:55+00:00   \n",
       "...                          ...   \n",
       "87271  2023-04-28 09:15:20+00:00   \n",
       "87273  2023-04-28 09:16:03+00:00   \n",
       "87275  2023-04-28 09:16:02+00:00   \n",
       "87277  2023-04-28 09:15:22+00:00   \n",
       "87278  2023-04-28 09:16:07+00:00   \n",
       "\n",
       "                                                hashtags language  \\\n",
       "0                                                ['nba']       en   \n",
       "1                                                     []       en   \n",
       "2      ['wanteddeadoralive', '9yearsofwarinukraine', ...       en   \n",
       "3                                               ['news']       en   \n",
       "4                                                     []       en   \n",
       "...                                                  ...      ...   \n",
       "87271                                         ['auspol']       en   \n",
       "87273                                                 []       en   \n",
       "87275                           ['clojure', 'databases']       en   \n",
       "87277  ['database', 'analytics', 'datamanagement', 's...       en   \n",
       "87278                                                 []       en   \n",
       "\n",
       "                                                   token   t_score   w_score  \n",
       "0        ['team', 'could', 'trick', 'cp3', 'sun', 'nba']  6.526667  5.904248  \n",
       "1      ['piec', 'damag', 'storag', 'scratch', 'much',...  5.708889  6.130553  \n",
       "2      ['🇺🇸🇺🇦draft', 'resolut', '‘', 'ukrainian', 'vi...  6.040000  6.584891  \n",
       "3      ['afl', 'regret', 'past', 'concuss', 'manag', ...  5.530000  5.694183  \n",
       "4      ['whole', 'spiritu', 'transform', 'bring', 'us...  6.070000  6.201230  \n",
       "...                                                  ...       ...       ...  \n",
       "87271  ['auspol', 'pm', ',', 'nightclub', 'mogul', 'f...  6.284000  6.742366  \n",
       "87273  ['franc', ',', 'citi', 'smaller', 'kirikiriroa...  4.900000  5.395647  \n",
       "87275  ['xtdb', 'open-sourc', 'datom', 'altern', 'clo...  0.000000  0.000000  \n",
       "87277  ['make', 'apach', 'kafka', 'realli', 'understa...  6.145000  6.002455  \n",
       "87278  ['prosecutor', 'confirm', 'trial', 'begin', 'm...  4.502500  5.025054  \n",
       "\n",
       "[73061 rows x 6 columns]"
      ]
     },
     "execution_count": 15,
     "metadata": {},
     "output_type": "execute_result"
    }
   ],
   "source": [
    "df"
   ]
  }
 ],
 "metadata": {
  "kernelspec": {
   "display_name": "base",
   "language": "python",
   "name": "python3"
  },
  "language_info": {
   "codemirror_mode": {
    "name": "ipython",
    "version": 3
   },
   "file_extension": ".py",
   "mimetype": "text/x-python",
   "name": "python",
   "nbconvert_exporter": "python",
   "pygments_lexer": "ipython3",
   "version": "3.9.12"
  },
  "orig_nbformat": 4
 },
 "nbformat": 4,
 "nbformat_minor": 2
}
