{
 "cells": [
  {
   "cell_type": "code",
   "execution_count": 25,
   "metadata": {},
   "outputs": [],
   "source": [
    "import pandas as pd\n",
    "import happiness_mining.scoring as hs\n",
    "from happiness_mining import nlp"
   ]
  },
  {
   "cell_type": "code",
   "execution_count": 26,
   "metadata": {},
   "outputs": [],
   "source": [
    "h_index = pd.read_csv('../data/raw/happiness_index/labMIT1.csv') #keep neutral words\n",
    "h_index = h_index.loc[(h_index['happiness_average'] >= 5.5) | (h_index['happiness_average'] <= 4.5)] #eliminate neutral words\n",
    "h_index = h_index[['#word', 'happiness_average']]\n",
    "h_index.set_index(keys='#word', inplace=True)\n",
    "h_dict = h_index.to_dict()['happiness_average']\n"
   ]
  },
  {
   "cell_type": "code",
   "execution_count": 27,
   "metadata": {},
   "outputs": [
    {
     "name": "stderr",
     "output_type": "stream",
     "text": [
      "/Users/jonghopark/Documents/GitHub/social-media-analytics-on-cloud/script/happiness_mining/nlp.py:32: GuessedAtParserWarning: No parser was explicitly specified, so I'm using the best available HTML parser for this system (\"html.parser\"). This usually isn't a problem, but if you run this code on another system, or in a different virtual environment, it may use a different parser and behave differently.\n",
      "\n",
      "The code that caused this warning is on line 32 of the file /Users/jonghopark/Documents/GitHub/social-media-analytics-on-cloud/script/happiness_mining/nlp.py. To get rid of this warning, pass the additional argument 'features=\"html.parser\"' to the BeautifulSoup constructor.\n",
      "\n",
      "  tmp = BeautifulSoup(text, \"html\").text\n",
      "/Users/jonghopark/Documents/GitHub/social-media-analytics-on-cloud/script/happiness_mining/nlp.py:32: MarkupResemblesLocatorWarning: The input looks more like a filename than markup. You may want to open this file and pass the filehandle into Beautiful Soup.\n",
      "  tmp = BeautifulSoup(text, \"html\").text\n"
     ]
    }
   ],
   "source": [
    "path = \"../data/raw/mastodon.csv\"\n",
    "df = pd.read_csv(path)\n",
    "df = df.loc[df[\"language\"]==\"en\"]\n",
    "df['token'] = df['content'].apply(nlp.create_tokens)"
   ]
  },
  {
   "cell_type": "code",
   "execution_count": 18,
   "metadata": {},
   "outputs": [],
   "source": [
    "model = hs.happiness_score(h_dict, df)"
   ]
  },
  {
   "cell_type": "code",
   "execution_count": 19,
   "metadata": {},
   "outputs": [
    {
     "data": {
      "text/plain": [
       "6.3"
      ]
     },
     "execution_count": 19,
     "metadata": {},
     "output_type": "execute_result"
    }
   ],
   "source": [
    "model.scoring()"
   ]
  },
  {
   "cell_type": "code",
   "execution_count": null,
   "metadata": {},
   "outputs": [],
   "source": []
  },
  {
   "cell_type": "code",
   "execution_count": null,
   "metadata": {},
   "outputs": [],
   "source": [
    "hs()"
   ]
  }
 ],
 "metadata": {
  "kernelspec": {
   "display_name": "Python 3",
   "language": "python",
   "name": "python3"
  },
  "language_info": {
   "codemirror_mode": {
    "name": "ipython",
    "version": 3
   },
   "file_extension": ".py",
   "mimetype": "text/x-python",
   "name": "python",
   "nbconvert_exporter": "python",
   "pygments_lexer": "ipython3",
   "version": "3.11.2"
  },
  "orig_nbformat": 4
 },
 "nbformat": 4,
 "nbformat_minor": 2
}
